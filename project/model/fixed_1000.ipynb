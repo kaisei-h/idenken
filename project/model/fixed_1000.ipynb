{
 "cells": [
  {
   "cell_type": "code",
   "execution_count": 1,
   "metadata": {
    "colab": {},
    "colab_type": "code",
    "executionInfo": {
     "elapsed": 4868,
     "status": "ok",
     "timestamp": 1599295316162,
     "user": {
      "displayName": "Kaisei Hara",
      "photoUrl": "",
      "userId": "00093271953957882617"
     },
     "user_tz": -540
    },
    "id": "D3apNnoc6Mnn"
   },
   "outputs": [],
   "source": [
    "import torch\n",
    "from tqdm.notebook import tqdm\n",
    "import matplotlib.pyplot as plt\n",
    "from matplotlib.colors import LogNorm\n",
    "import time\n",
    "#from jupyterthemes import jtplot\n",
    "#jtplot.style(theme='gruvboxd')\n",
    "import torch.nn as nn\n",
    "import torch.nn.functional as F\n",
    "import torch.optim as optim\n",
    "import numpy as np\n",
    "import scipy.stats as stats\n",
    "import pickle\n",
    "import gc\n",
    "device = 'cuda' if torch.cuda.is_available() else 'cpu'"
   ]
  },
  {
   "cell_type": "code",
   "execution_count": 2,
   "metadata": {
    "colab": {},
    "colab_type": "code",
    "executionInfo": {
     "elapsed": 29932,
     "status": "ok",
     "timestamp": 1599295341242,
     "user": {
      "displayName": "Kaisei Hara",
      "photoUrl": "",
      "userId": "00093271953957882617"
     },
     "user_tz": -540
    },
    "id": "DAmdrdrJws83"
   },
   "outputs": [],
   "source": [
    "# よく使ってる時刻を表示してくれるようになるprint関数のwrapper\n",
    "def datePrint(*args, **kwargs):\n",
    "    from datetime import datetime\n",
    "    print(datetime.now().strftime('[%Y/%m/%d %H:%M:%S] '), end=\"\")\n",
    "    print(*args, **kwargs)"
   ]
  },
  {
   "cell_type": "code",
   "execution_count": 3,
   "metadata": {
    "colab": {},
    "colab_type": "code",
    "executionInfo": {
     "elapsed": 36843,
     "status": "ok",
     "timestamp": 1599295348168,
     "user": {
      "displayName": "Kaisei Hara",
      "photoUrl": "",
      "userId": "00093271953957882617"
     },
     "user_tz": -540
    },
    "id": "JPvXqnCM6Mn4"
   },
   "outputs": [],
   "source": [
    "class Dataset(torch.utils.data.Dataset):\n",
    "    def __init__(self, data, target, transform=None):\n",
    "        self.transform = transform\n",
    "        self.data = data\n",
    "        self.target = target\n",
    "   \n",
    "    def __len__(self):\n",
    "        return len(self.data)\n",
    "    \n",
    "    def __getitem__(self, index):\n",
    "        out_data = self.data[index]\n",
    "        out_target = self.target[index]\n",
    "        \n",
    "        return out_data, out_target"
   ]
  },
  {
   "cell_type": "code",
   "execution_count": 4,
   "metadata": {},
   "outputs": [],
   "source": [
    "class Net(nn.Module):\n",
    "    def __init__(self, num_layer=48, channel=128):\n",
    "        super(Net, self).__init__()\n",
    "        self.activation = F.relu\n",
    "        self.num_layer = num_layer\n",
    "        self.channel = channel\n",
    "\n",
    "        emb_dim=2\n",
    "        self.embedding = nn.Embedding(4, emb_dim)\n",
    "\n",
    "        #第一層\n",
    "        self.convs = nn.ModuleList([nn.Conv1d(in_channels=emb_dim, out_channels=self.channel, kernel_size=5, padding=2, stride=1)])\n",
    "        self.convs.append(nn.BatchNorm1d(self.channel))\n",
    "        #第二層以降\n",
    "        for i in range(1, num_layer):\n",
    "            #self.convs.append(SkipConnection(in_channels=self.channel, kernel_size=7))\n",
    "            self.convs.append(nn.Conv1d(in_channels=self.channel, out_channels=self.channel, kernel_size=5, padding=2, stride=1))\n",
    "            self.convs.append(nn.BatchNorm1d(self.channel))\n",
    "        #最終層\n",
    "        self.fc = nn.Linear(1000*self.channel, 1000-4)\n",
    "        #self.fcc = nn.Linear(996, 996)\n",
    "        #self.convs.append(nn.Conv1d(in_channels=self.channel, out_channels=1, kernel_size=5))\n",
    "\n",
    "    def forward(self, x):\n",
    "        x = self.embedding(x.long())\n",
    "        x = torch.transpose(x, 1, 2)\n",
    "        for i, l in enumerate(self.convs):\n",
    "                x = l(x)\n",
    "                if(i%2==1):\n",
    "                    x = self.activation(x)\n",
    "        y = x\n",
    "        x = x.view(-1, 1000*self.channel)\n",
    "        #x = F.relu(self.fc(x))\n",
    "        x = self.fc(x)\n",
    "        #x = x.view(x.shape[0], -1)\n",
    "        return x, y\n",
    "\n",
    "\n",
    "net = Net().cuda()\n",
    "optimizer = optim.RMSprop(net.parameters(), lr=1e-3)\n",
    "criterion = nn.MSELoss().cuda()\n",
    "epochs = 30\n"
   ]
  },
  {
   "cell_type": "code",
   "execution_count": null,
   "metadata": {
    "colab": {
     "base_uri": "https://localhost:8080/",
     "height": 85
    },
    "colab_type": "code",
    "executionInfo": {
     "elapsed": 36848,
     "status": "ok",
     "timestamp": 1599295348164,
     "user": {
      "displayName": "Kaisei Hara",
      "photoUrl": "",
      "userId": "00093271953957882617"
     },
     "user_tz": -540
    },
    "id": "n7mbeduK6Mnv",
    "outputId": "ed61aba2-fb5c-42eb-f135-9b545e9e613c"
   },
   "outputs": [],
   "source": [
    "datePrint(\"loading input_test\")\n",
    "input_test = pickle.load(open(\"../data/index1000base/input_test.pkl\",\"rb\"))\n",
    "\n",
    "datePrint(\"loading target_test\")\n",
    "target_test = pickle.load(open(\"../data/index1000base/target_test.pkl\",\"rb\"))\n",
    "\n",
    "datePrint(\"loading input_train\")\n",
    "input_train = pickle.load(open(\"../data/index1000base/input_train.pkl\",\"rb\"))\n",
    "#input_train_2 = pickle.load(open(\"../data/onehot1000base/input_train_2.pkl\",\"rb\"))\n",
    "#input_train = torch.cat((input_train_1, input_train_2), dim=0)\n",
    "\n",
    "target_train = pickle.load(open(\"../data/index1000base/target_train.pkl\",\"rb\"))"
   ]
  },
  {
   "cell_type": "code",
   "execution_count": null,
   "metadata": {
    "colab": {
     "base_uri": "https://localhost:8080/",
     "height": 120
    },
    "colab_type": "code",
    "executionInfo": {
     "elapsed": 36845,
     "status": "ok",
     "timestamp": 1599295348167,
     "user": {
      "displayName": "Kaisei Hara",
      "photoUrl": "",
      "userId": "00093271953957882617"
     },
     "user_tz": -540
    },
    "id": "urLjZpB6l3mD",
    "outputId": "34a5ef1b-f8a6-4bf8-8559-fdcb04bde9f1"
   },
   "outputs": [],
   "source": [
    "print(input_test.shape)\n",
    "print(target_test.shape)\n",
    "print(input_train.shape)\n",
    "print(target_train.shape)"
   ]
  },
  {
   "cell_type": "code",
   "execution_count": null,
   "metadata": {},
   "outputs": [],
   "source": [
    "class SkipConnection(nn.Module):\n",
    "    def __init__(self,in_channels=4,kernel_size=5,downsize_scale=2):\n",
    "        super(SkipConnection, self).__init__()\n",
    "        self.downconv = nn.Conv1d(in_channels=in_channels, out_channels=in_channels//downsize_scale, kernel_size=1)\n",
    "        self.bn1 = nn.BatchNorm1d(num_features=in_channels//downsize_scale)\n",
    "        self.linear = nn.Conv1d(in_channels=in_channels//downsize_scale, out_channels=in_channels//downsize_scale, kernel_size=kernel_size, padding=kernel_size//2)\n",
    "        self.bn2 = nn.BatchNorm1d(num_features=in_channels//downsize_scale)\n",
    "        self.drop = nn.Dropout(p=0.3)\n",
    "        self.upconv = nn.Conv1d(in_channels=in_channels//downsize_scale, out_channels=in_channels, kernel_size=1)\n",
    "        \n",
    "    def forward(self,x):\n",
    "        dx = self.downconv(x)\n",
    "        dx = self.linear(F.relu(self.bn1(dx)))\n",
    "        return x + self.upconv(self.drop(F.relu(self.bn2(dx))))"
   ]
  },
  {
   "cell_type": "code",
   "execution_count": null,
   "metadata": {
    "colab": {
     "base_uri": "https://localhost:8080/",
     "height": 66,
     "referenced_widgets": [
      "4d55df15f3f947888809d424885dfe55",
      "a3ed74bd975e4e87955a0de33c520916",
      "8a817f317b5c42f592f130f576ee3063",
      "3c5b3c652eab41459f3779503ab44717",
      "de9d1fa4cee24559a816afe706b91081",
      "5098cf4e3a6a4e5fb9daec2f6dc59c9d",
      "2ee0ab1bbc1e4cada381cdadbc3dc5f2",
      "16b98715895a42739075b7711e0ba437"
     ]
    },
    "colab_type": "code",
    "id": "FK5eCRTe6MoS",
    "outputId": "ae6267ee-0394-44aa-e1bd-0af90e62456d"
   },
   "outputs": [],
   "source": [
    "datanumloss_list = []\n",
    "datanumcor_list = []\n",
    "listing = [0]\n",
    "\n",
    "for abc in listing:\n",
    "    prm = abc\n",
    "\n",
    "    train_dataset = Dataset(input_train[0:300000], target_train[0:300000])\n",
    "    test_dataset = Dataset(input_test, target_test)\n",
    "    train_dataloader = torch.utils.data.DataLoader(train_dataset, batch_size=32,shuffle=True, num_workers=1)\n",
    "    test_dataloader = torch.utils.data.DataLoader(test_dataset, batch_size=32,shuffle=True, num_workers=1)\n",
    "    '''\n",
    "    class Net(nn.Module):\n",
    "        def __init__(self, num_layer=32, channel=64):\n",
    "            super(Net, self).__init__()\n",
    "            #last_channel = 256 #線形風\n",
    "            emb_dim = 4\n",
    "            #self.embedding = nn.Embedding(4, emb_dim) #embedding\n",
    "            \n",
    "            #第一層\n",
    "            self.convs = nn.ModuleList([nn.Conv1d(in_channels=emb_dim, out_channels=channel, kernel_size=5, padding=2)])\n",
    "            self.convs.append(nn.BatchNorm1d(num_features=channel))\n",
    "            #第二層以降\n",
    "            for i in range(1, num_layer):\n",
    "                self.convs.append(SkipConnection(in_channels=channel, kernel_size=3))\n",
    "                self.convs.append(SkipConnection(in_channels=channel, kernel_size=7))\n",
    "                self.convs.append(SkipConnection(in_channels=channel, kernel_size=11))\n",
    "                self.convs.append(SkipConnection(in_channels=channel, kernel_size=15))\n",
    "                #self.convs.append(nn.MaxPool1d(kernel_size=5, padding=2, stride=1)) #pooling\n",
    "                #最終層\n",
    "            #self.convs.append(nn.Conv1d(in_channels=channel, out_channels=last_channel, kernel_size=5)) #線形風\n",
    "            self.convs.append(nn.Conv1d(in_channels=channel, out_channels=1, kernel_size=5))\n",
    "\n",
    "        def forward(self, x):\n",
    "            #x = self.embedding(x.long()) #embedding\n",
    "            #x = torch.transpose(x, 1, 2) #embedding\n",
    "\n",
    "            for i, l in enumerate(self.convs):\n",
    "                x = l(x)\n",
    "                if(i==1):\n",
    "                    x = F.relu(x)\n",
    "            x = x.view(x.shape[0], -1)\n",
    "            return x\n",
    "    \n",
    "    ''' \n",
    "    class Net(nn.Module):\n",
    "        def __init__(self, num_layer=48, channel=128):\n",
    "            super(Net, self).__init__()\n",
    "            self.activation = F.relu\n",
    "            self.num_layer = num_layer\n",
    "            self.channel = channel\n",
    "\n",
    "            emb_dim=2\n",
    "            self.embedding = nn.Embedding(4, emb_dim)\n",
    "\n",
    "            #第一層\n",
    "            self.convs = nn.ModuleList([nn.Conv1d(in_channels=emb_dim, out_channels=self.channel, kernel_size=5, padding=2, stride=1)])\n",
    "            self.convs.append(nn.BatchNorm1d(self.channel))\n",
    "            #第二層以降\n",
    "            for i in range(1, num_layer):\n",
    "                #self.convs.append(SkipConnection(in_channels=self.channel, kernel_size=7))\n",
    "                self.convs.append(nn.Conv1d(in_channels=self.channel, out_channels=self.channel, kernel_size=5, padding=2, stride=1))\n",
    "                self.convs.append(nn.BatchNorm1d(self.channel))\n",
    "            #最終層\n",
    "            self.fc = nn.Linear(1000*self.channel, 1000-4)\n",
    "            #self.fcc = nn.Linear(996, 996)\n",
    "            #self.convs.append(nn.Conv1d(in_channels=self.channel, out_channels=1, kernel_size=5))\n",
    "            \n",
    "        def forward(self, x):\n",
    "            x = self.embedding(x.long())\n",
    "            x = torch.transpose(x, 1, 2)\n",
    "            for i, l in enumerate(self.convs):\n",
    "                    x = l(x)\n",
    "                    if(i%2==1):\n",
    "                        x = self.activation(x)\n",
    "            y = x\n",
    "            x = x.view(-1, 1000*self.channel)\n",
    "            #x = F.relu(self.fc(x))\n",
    "            x = self.fc(x)\n",
    "            #x = x.view(x.shape[0], -1)\n",
    "            return x, y\n",
    "\n",
    "\n",
    "    net = Net().cuda()\n",
    "    optimizer = optim.RMSprop(net.parameters(), lr=1e-3)\n",
    "    criterion = nn.MSELoss().cuda()\n",
    "    epochs = 30\n",
    "\n",
    "    print('data num', prm)\n",
    "\n",
    "    train_loss_list = []\n",
    "    val_loss_list = []\n",
    "    tmp = 0\n",
    "    \n",
    "\n",
    "    for epoch in tqdm(range(epochs)):\n",
    "        train_loss = 0\n",
    "        val_loss = 0\n",
    "\n",
    "        net.train()\n",
    "        for data, target in train_dataloader:\n",
    "            data, target = data.cuda(), target.cuda()\n",
    "            optimizer.zero_grad()\n",
    "            output, _ = net(data)\n",
    "            loss = criterion(output, target)\n",
    "            train_loss += loss.item()\n",
    "            loss.backward()\n",
    "            optimizer.step()\n",
    "\n",
    "        avg_train_loss = train_loss / len(train_dataloader)\n",
    "        train_loss_list.append(avg_train_loss)\n",
    "        #print('Epoch: {};  '.format(epoch))\n",
    "        #print('train_loss: {:.3f}'.format(avg_train_loss))\n",
    "        #print('learnig_rate: {}'.format(optimizer.param_groups[0]['lr']))\n",
    "\n",
    "        #lr_scheduler.step()\n",
    "\n",
    "        net.eval()\n",
    "        data_all = []\n",
    "        target_all = []\n",
    "        output_all = []\n",
    "        loss_list = []\n",
    "        with torch.no_grad():\n",
    "            for data, target in test_dataloader:\n",
    "                data, target = data.cuda(), target.cuda()\n",
    "                output, y = net(data)\n",
    "                for i in range(len(target)):\n",
    "                    data_all.append(data[i].cpu().numpy())\n",
    "                    target_all.append(target[i].cpu().numpy())\n",
    "                    output_all.append(output[i].cpu().numpy())\n",
    "                loss = criterion(output, target)\n",
    "                val_loss += loss.item()\n",
    "\n",
    "\n",
    "            avg_val_loss = val_loss / len(test_dataloader)\n",
    "            #if((abs(avg_val_loss-tmp)<1e-4) | (avg_val_loss<0.15)):\n",
    "            if((avg_val_loss<0.1)):\n",
    "                val_loss_list.append(avg_val_loss)\n",
    "                break\n",
    "            tmp = avg_val_loss\n",
    "            val_loss_list.append(avg_val_loss)\n",
    "        print(avg_val_loss)\n",
    "        print('x', output)\n",
    "        plt.figure(figsize=(15, 7))\n",
    "        plt.bar(np.array(range(len(target_all[0])))-0.2 , target[0].cpu().numpy(), label='target', color='b', width=0.4, align='center')\n",
    "        plt.bar(np.array(range(len(target_all[0])))+0.2 , output[0].cpu().numpy(), label='output', color='r', width=0.4, align='center')\n",
    "        plt.legend()\n",
    "        plt.title('cor_max')\n",
    "        plt.show()\n",
    "        print(y)\n",
    "        \n",
    "    torch.save(net.state_dict(), 'cnn1000_linear')\n",
    "\n",
    "    plt.plot(range(epoch+1), train_loss_list, label='train')\n",
    "    plt.plot(range(epoch+1), val_loss_list, label='test')\n",
    "    plt.xlabel('epoch')\n",
    "    plt.ylabel('loss')\n",
    "    plt.legend()\n",
    "    plt.show()\n",
    "\n",
    "\n",
    "    print('test_loss: {:.3f}'.format(avg_val_loss))\n",
    "    plt.figure(figsize=(7, 7), dpi=70)\n",
    "    plt.scatter(target_all, output_all, s=0.1, c='red', marker='.', label='output')\n",
    "    plt.scatter(target_all, target_all, s=0.1, c='blue', marker='.', label='ideal')\n",
    "    plt.xlim(0, 15)\n",
    "    plt.ylim(-0.5, 15)\n",
    "    plt.xlabel('target')\n",
    "    plt.ylabel('output')\n",
    "    plt.legend()\n",
    "    plt.show()\n",
    "\n",
    "\n",
    "    loss_list = []    \n",
    "    cor_list = []\n",
    "    for n in range(len(target_all)):\n",
    "        mse = 0\n",
    "        cor = np.corrcoef(target_all[n], output_all[n])\n",
    "        cor_list.append(cor[0, 1])\n",
    "        for m in range(len(target_all[0])):\n",
    "            mse += (target_all[n][m] - output_all[n][m]) **2\n",
    "        mse = mse / len(output_all[n])\n",
    "        loss_list.append(mse)\n",
    "    plt.hist(cor_list)\n",
    "    plt.xlim(-1, 1)\n",
    "    plt.xlabel('correlation coefficient')\n",
    "    plt.ylabel('count')\n",
    "    plt.show()\n",
    "    print(np.average(cor_list))\n",
    "\n",
    "    plt.scatter(target_all[np.argmax(cor_list)], output_all[np.argmax(cor_list)], label=max(cor_list))\n",
    "    plt.scatter(target_all[np.argmin(cor_list)], output_all[np.argmin(cor_list)], label=min(cor_list))\n",
    "    plt.legend()\n",
    "    plt.show()\n",
    "    \n",
    "    \n",
    "    plt.figure(figsize=(15, 7))\n",
    "    plt.bar(np.array(range(len(target_all[0])))-0.2 , target_all[np.argmax(cor_list)], label='target', color='b', width=0.4, align='center')\n",
    "    plt.bar(np.array(range(len(target_all[0])))+0.2 , output_all[np.argmax(cor_list)], label='output', color='r', width=0.4, align='center')\n",
    "    plt.legend()\n",
    "    plt.title('cor_max')\n",
    "    plt.show()\n",
    "\n",
    "\n",
    "    datanumloss_list.append(avg_val_loss)\n",
    "    datanumcor_list.append(np.average(cor_list))\n",
    "plt.plot(listing, datanumloss_list)\n",
    "plt.xlabel('data num')\n",
    "plt.ylabel('loss')\n",
    "plt.show()\n",
    "\n",
    "plt.plot(listing, datanumcor_list)\n",
    "plt.xlabel('data num')\n",
    "plt.ylabel('correlation coefficient')\n",
    "plt.show()"
   ]
  },
  {
   "cell_type": "code",
   "execution_count": null,
   "metadata": {
    "colab": {},
    "colab_type": "code",
    "id": "5OiwED2GvLCU"
   },
   "outputs": [],
   "source": [
    "plt.figure(figsize=(30, 7))\n",
    "plt.bar(np.array(range(len(target_all[0])))-0.2 , target_all[np.argmax(cor_list)], label='target', color='b', width=0.4, align='center')\n",
    "plt.bar(np.array(range(len(target_all[0])))+0.2 , output_all[np.argmax(cor_list)], label='output', color='r', width=0.4, align='center')\n",
    "plt.legend()\n",
    "plt.title('cor_max')\n",
    "plt.show()\n",
    "\n",
    "plt.figure(figsize=(30, 7))\n",
    "plt.bar(np.array(range(len(target_all[0])))-0.2 , target_all[np.argmin(cor_list)], label='target', color='b', width=0.4, align='center')\n",
    "plt.bar(np.array(range(len(target_all[0])))+0.2 , output_all[np.argmin(cor_list)], label='output', color='r', width=0.4, align='center')\n",
    "plt.legend()\n",
    "plt.title('cor_min')\n",
    "plt.show()\n",
    "\n",
    "plt.figure(figsize=(30, 7))\n",
    "plt.bar(np.array(range(len(target_all[0])))-0.2 , target_all[np.argmax(loss_list)], label='target', color='b', width=0.4, align='center')\n",
    "plt.bar(np.array(range(len(target_all[0])))+0.2 , output_all[np.argmax(loss_list)], label='output', color='r', width=0.4, align='center')\n",
    "plt.legend()\n",
    "plt.title('loss_max')\n",
    "plt.show()\n",
    "\n",
    "plt.figure(figsize=(30, 7))\n",
    "plt.bar(np.array(range(len(target_all[0])))-0.2 , target_all[np.argmin(loss_list)], label='target', color='b', width=0.4, align='center')\n",
    "plt.bar(np.array(range(len(target_all[0])))+0.2 , output_all[np.argmin(loss_list)], label='output', color='r', width=0.4, align='center')\n",
    "plt.legend()\n",
    "plt.title('loss_min')\n",
    "plt.show()"
   ]
  },
  {
   "cell_type": "code",
   "execution_count": null,
   "metadata": {
    "colab": {},
    "colab_type": "code",
    "id": "ZF7VPxIz0bcZ"
   },
   "outputs": [],
   "source": [
    "cor_max = []\n",
    "cor_min = []\n",
    "loss_max = []\n",
    "loss_min = []\n",
    "for i in range(len(data_all[0])):\n",
    "  if (data_all[np.argmax(cor_list)][i]==0):\n",
    "    cor_max.append('A')\n",
    "  elif (data_all[np.argmax(cor_list)][i]==1):\n",
    "    cor_max.append('U')\n",
    "  elif (data_all[np.argmax(cor_list)][i]==2):\n",
    "    cor_max.append('G')\n",
    "  elif (data_all[np.argmax(cor_list)][i]==3):\n",
    "    cor_max.append('C')\n",
    "\n",
    "  if (data_all[np.argmin(cor_list)][i]==0):\n",
    "    cor_min.append('A')\n",
    "  elif (data_all[np.argmin(cor_list)][i]==1):\n",
    "    cor_min.append('U')\n",
    "  elif (data_all[np.argmin(cor_list)][i]==2):\n",
    "    cor_min.append('G')\n",
    "  elif (data_all[np.argmin(cor_list)][i]==3):\n",
    "    cor_min.append('C')\n",
    "\n",
    "  if (data_all[np.argmax(loss_list)][i]==0):\n",
    "    loss_max.append('A')\n",
    "  elif (data_all[np.argmax(loss_list)][i]==1):\n",
    "    loss_max.append('U')\n",
    "  elif (data_all[np.argmax(loss_list)][i]==2):\n",
    "    loss_max.append('G')\n",
    "  elif (data_all[np.argmax(loss_list)][i]==3):\n",
    "    loss_max.append('C')\n",
    "\n",
    "  if (data_all[np.argmin(loss_list)][i]==0):\n",
    "    loss_min.append('A')\n",
    "  elif (data_all[np.argmin(loss_list)][i]==1):\n",
    "    loss_min.append('U')\n",
    "  elif (data_all[np.argmin(loss_list)][i]==2):\n",
    "    loss_min.append('G')\n",
    "  elif (data_all[np.argmin(loss_list)][i]==3):\n",
    "    loss_min.append('C')\n",
    "print('cor_max', ''.join(cor_max))\n",
    "print('cor_min', ''.join(cor_min))\n",
    "print('loss_max', ''.join(loss_max))\n",
    "print('loss_min', ''.join(loss_min))"
   ]
  },
  {
   "cell_type": "code",
   "execution_count": null,
   "metadata": {},
   "outputs": [],
   "source": [
    "'''\n",
    "import cloudpickle\n",
    "\n",
    "with open('cnn_only.pkl', 'wb') as f:\n",
    "    cloudpickle.dump(net, f)\n",
    "'''"
   ]
  },
  {
   "cell_type": "code",
   "execution_count": 5,
   "metadata": {},
   "outputs": [
    {
     "name": "stdout",
     "output_type": "stream",
     "text": [
      "torch.Size([75000, 1000])\n",
      "予測時間 1.1894209384918213\n"
     ]
    }
   ],
   "source": [
    "input_val = pickle.load(open(\"../data/index1000base/input_test.pkl\",\"rb\"))\n",
    "target_val = pickle.load(open(\"../data/index1000base/target_test.pkl\",\"rb\"))\n",
    "print(input_val.shape)\n",
    "val_dataset = Dataset(input_val[0:1000], target_val[0:1000])\n",
    "val_dataloader = torch.utils.data.DataLoader(val_dataset, batch_size=16,shuffle=True, num_workers=1)\n",
    "\n",
    "net.load_state_dict(torch.load(\"cnn1000_linear\"))\n",
    "net.eval()\n",
    "data_all = []\n",
    "target_all = []\n",
    "output_all = []\n",
    "val_loss = 0  \n",
    "with torch.no_grad():\n",
    "    start = time.time()\n",
    "    for data, target in val_dataloader:\n",
    "        data, target = data.cuda(), target.cuda()\n",
    "        output, _ = net(data)\n",
    "        for i in range(len(target)):\n",
    "            data_all.append(data[i].cpu().numpy())\n",
    "            target_all.append(target[i].cpu().numpy())\n",
    "            output_all.append(output[i].cpu().numpy())\n",
    "        loss = criterion(output, target)\n",
    "        val_loss += loss.item()\n",
    "    avg_val_loss = val_loss / len(val_dataloader)\n",
    "    \n",
    "    with open('accessibility_output.txt', 'w') as f:\n",
    "        print(output, file=f)\n",
    "    finish = time.time()\n",
    "print('予測時間', (finish-start))"
   ]
  },
  {
   "cell_type": "code",
   "execution_count": 6,
   "metadata": {},
   "outputs": [],
   "source": [
    "def plot_result(y_true:np.array, y_est:np.array, lims=[0, 15]) -> None:\n",
    "    fig,ax = plt.subplots(1,1,dpi=150,figsize=(5,5))\n",
    "    heatmap, xedges, yedges = np.histogram2d(y_true, y_est, bins=100,range=(lims,lims))\n",
    "    extent = [xedges[0], xedges[-1], yedges[0], yedges[-1]]\n",
    "    cset = ax.imshow(heatmap.T, extent=extent, origin='lower', norm=LogNorm(), cmap='rainbow')\n",
    "    ax.plot(lims, lims, ls=\"--\", color=\"black\", alpha=0.5, label=\"ideal\")\n",
    "    plt.ylabel('output')\n",
    "    plt.xlabel('target')\n",
    "    ax.legend()\n",
    "    \n",
    "    from mpl_toolkits.axes_grid1 import make_axes_locatable\n",
    "    divider = make_axes_locatable(ax)\n",
    "    cax = divider.append_axes(\"right\", size=\"5%\", pad=0.1)\n",
    "    fig.colorbar(cset, cax=cax).ax.set_title(\"count\")\n",
    "    plt.show()\n",
    "    "
   ]
  },
  {
   "cell_type": "code",
   "execution_count": 7,
   "metadata": {},
   "outputs": [
    {
     "name": "stdout",
     "output_type": "stream",
     "text": [
      "test_loss: 0.085\n"
     ]
    },
    {
     "data": {
      "image/png": "[encoded data removed]",
      "text/plain": [
       "<Figure size 750x750 with 2 Axes>"
      ]
     },
     "metadata": {
      "needs_background": "light"
     },
     "output_type": "display_data"
    },
    {
     "data": {
      "image/png": "[encoded data removed]",
      "text/plain": [
       "<Figure size 432x288 with 1 Axes>"
      ]
     },
     "metadata": {
      "needs_background": "light"
     },
     "output_type": "display_data"
    },
    {
     "name": "stdout",
     "output_type": "stream",
     "text": [
      "0.9835949641948682\n"
     ]
    },
    {
     "data": {
      "image/png": "[encoded data removed]",
      "text/plain": [
       "<Figure size 432x288 with 1 Axes>"
      ]
     },
     "metadata": {
      "needs_background": "light"
     },
     "output_type": "display_data"
    },
    {
     "data": {
      "image/png": "[encoded data removed]",
      "text/plain": [
       "<Figure size 2160x504 with 1 Axes>"
      ]
     },
     "metadata": {
      "needs_background": "light"
     },
     "output_type": "display_data"
    },
    {
     "data": {
      "image/png": "[encoded data removed]",
      "text/plain": [
       "<Figure size 1080x504 with 1 Axes>"
      ]
     },
     "metadata": {
      "needs_background": "light"
     },
     "output_type": "display_data"
    },
    {
     "data": {
      "image/png": "[encoded data removed]",
      "text/plain": [
       "<Figure size 1080x504 with 1 Axes>"
      ]
     },
     "metadata": {
      "needs_background": "light"
     },
     "output_type": "display_data"
    },
    {
     "data": {
      "image/png": "[encoded data removed]",
      "text/plain": [
       "<Figure size 1080x504 with 1 Axes>"
      ]
     },
     "metadata": {
      "needs_background": "light"
     },
     "output_type": "display_data"
    }
   ],
   "source": [
    "print('test_loss: {:.3f}'.format(avg_val_loss))\n",
    "'''\n",
    "plt.figure(figsize=(7, 7), dpi=70)\n",
    "plt.scatter(target_all, output_all, s=0.1, c='red', marker='.', label='output')\n",
    "plt.scatter(target_all, target_all, s=0.1, c='blue', marker='.', label='ideal')\n",
    "plt.xlim(0, 15)\n",
    "plt.ylim(-0.5, 15)\n",
    "plt.xlabel('target')\n",
    "plt.ylabel('output')\n",
    "plt.legend()\n",
    "plt.show()\n",
    "'''\n",
    "plot_result(np.array(target_all).reshape(-1), np.array(output_all).reshape(-1))\n",
    "\n",
    "loss_list = []    \n",
    "cor_list = []\n",
    "for n in range(len(target_all)):\n",
    "    mse = 0\n",
    "    cor = np.corrcoef(target_all[n], output_all[n])\n",
    "    cor_list.append(cor[0, 1])\n",
    "    for m in range(len(target_all[0])):\n",
    "        mse += (target_all[n][m] - output_all[n][m]) **2\n",
    "    mse = mse / len(output_all[n])\n",
    "    loss_list.append(mse)\n",
    "plt.hist(cor_list)\n",
    "plt.xlim(-1, 1.1)\n",
    "plt.xlabel('correlation coefficient')\n",
    "plt.ylabel('count')\n",
    "plt.show()\n",
    "print(np.average(cor_list))\n",
    "\n",
    "plt.scatter(target_all[np.argmax(cor_list)], output_all[np.argmax(cor_list)], label=max(cor_list))\n",
    "plt.scatter(target_all[np.argmin(cor_list)], output_all[np.argmin(cor_list)], label=min(cor_list))\n",
    "plt.legend()\n",
    "plt.show()\n",
    "\n",
    "\n",
    "plt.figure(figsize=(30, 7))\n",
    "plt.bar(np.array(range(len(target_all[0])))-0.2 , target_all[np.argmax(cor_list)], label='target', color='b', width=0.4, align='center')\n",
    "plt.bar(np.array(range(len(target_all[0])))+0.2 , output_all[np.argmax(cor_list)], label='output', color='r', width=0.4, align='center')\n",
    "plt.legend()\n",
    "plt.title('cor_max')\n",
    "plt.show()\n",
    "\n",
    "plt.figure(figsize=(15, 7))\n",
    "plt.bar(np.array(range(len(target_all[0])))-0.2 , target_all[np.argmin(cor_list)], label='target', color='b', width=0.4, align='center')\n",
    "plt.bar(np.array(range(len(target_all[0])))+0.2 , output_all[np.argmin(cor_list)], label='output', color='r', width=0.4, align='center')\n",
    "plt.legend()\n",
    "plt.title('cor_min')\n",
    "plt.show()\n",
    "\n",
    "plt.figure(figsize=(15, 7))\n",
    "plt.bar(np.array(range(len(target_all[0])))-0.2 , target_all[np.argmax(loss_list)], label='target', color='b', width=0.4, align='center')\n",
    "plt.bar(np.array(range(len(target_all[0])))+0.2 , output_all[np.argmax(loss_list)], label='output', color='r', width=0.4, align='center')\n",
    "plt.legend()\n",
    "plt.title('loss_max')\n",
    "plt.show()\n",
    "\n",
    "plt.figure(figsize=(15, 7))\n",
    "plt.bar(np.array(range(len(target_all[0])))-0.2 , target_all[np.argmin(loss_list)], label='target', color='b', width=0.4, align='center')\n",
    "plt.bar(np.array(range(len(target_all[0])))+0.2 , output_all[np.argmin(loss_list)], label='output', color='r', width=0.4, align='center')\n",
    "plt.legend()\n",
    "plt.title('loss_min')\n",
    "plt.show()"
   ]
  },
  {
   "cell_type": "code",
   "execution_count": null,
   "metadata": {
    "colab": {},
    "colab_type": "code",
    "id": "4iN96X35s5E8"
   },
   "outputs": [],
   "source": [
    "#メモリ確認\n",
    "import sys\n",
    "\n",
    "print(\"{}{: >25}{}{: >10}{}\".format('|','Variable Name','|','Memory','|'))\n",
    "print(\" ------------------------------------ \")\n",
    "for var_name in dir():\n",
    "    if not var_name.startswith(\"_\") and sys.getsizeof(eval(var_name)) > 10000: #10M以上のみ表示\n",
    "        print(\"{}{: >25}{}{: >10}{}\".format('|',var_name,'|',sys.getsizeof(eval(var_name)),'|'))"
   ]
  }
 ],
 "metadata": {
  "accelerator": "GPU",
  "colab": {
   "collapsed_sections": [],
   "name": "CNN.ipynb",
   "provenance": [
    {
     "file_id": "1ir0IJd6vc8l_FMQY9-YSFWxAQiIxZF6p",
     "timestamp": 1591723758584
    },
    {
     "file_id": "1cSw8tGp7_Atz1RUom-WbFEdJ1yVDgKCC",
     "timestamp": 1591700460320
    },
    {
     "file_id": "1-iiGLGF3JfbxpJ5cz5GyMTmbOMxhDH6D",
     "timestamp": 1591434878746
    }
   ]
  },
  "kernelspec": {
   "display_name": "Python 3",
   "language": "python",
   "name": "python3"
  },
  "language_info": {
   "codemirror_mode": {
    "name": "ipython",
    "version": 3
   },
   "file_extension": ".py",
   "mimetype": "text/x-python",
   "name": "python",
   "nbconvert_exporter": "python",
   "pygments_lexer": "ipython3",
   "version": "3.7.8"
  },
  "widgets": {
   "application/vnd.jupyter.widget-state+json": {
    "16b98715895a42739075b7711e0ba437": {
     "model_module": "@jupyter-widgets/base",
     "model_name": "LayoutModel",
     "state": {
      "_model_module": "@jupyter-widgets/base",
      "_model_module_version": "1.2.0",
      "_model_name": "LayoutModel",
      "_view_count": null,
      "_view_module": "@jupyter-widgets/base",
      "_view_module_version": "1.2.0",
      "_view_name": "LayoutView",
      "align_content": null,
      "align_items": null,
      "align_self": null,
      "border": null,
      "bottom": null,
      "display": null,
      "flex": null,
      "flex_flow": null,
      "grid_area": null,
      "grid_auto_columns": null,
      "grid_auto_flow": null,
      "grid_auto_rows": null,
      "grid_column": null,
      "grid_gap": null,
      "grid_row": null,
      "grid_template_areas": null,
      "grid_template_columns": null,
      "grid_template_rows": null,
      "height": null,
      "justify_content": null,
      "justify_items": null,
      "left": null,
      "margin": null,
      "max_height": null,
      "max_width": null,
      "min_height": null,
      "min_width": null,
      "object_fit": null,
      "object_position": null,
      "order": null,
      "overflow": null,
      "overflow_x": null,
      "overflow_y": null,
      "padding": null,
      "right": null,
      "top": null,
      "visibility": null,
      "width": null
     }
    },
    "2ee0ab1bbc1e4cada381cdadbc3dc5f2": {
     "model_module": "@jupyter-widgets/controls",
     "model_name": "DescriptionStyleModel",
     "state": {
      "_model_module": "@jupyter-widgets/controls",
      "_model_module_version": "1.5.0",
      "_model_name": "DescriptionStyleModel",
      "_view_count": null,
      "_view_module": "@jupyter-widgets/base",
      "_view_module_version": "1.2.0",
      "_view_name": "StyleView",
      "description_width": ""
     }
    },
    "3c5b3c652eab41459f3779503ab44717": {
     "model_module": "@jupyter-widgets/controls",
     "model_name": "HTMLModel",
     "state": {
      "_dom_classes": [],
      "_model_module": "@jupyter-widgets/controls",
      "_model_module_version": "1.5.0",
      "_model_name": "HTMLModel",
      "_view_count": null,
      "_view_module": "@jupyter-widgets/controls",
      "_view_module_version": "1.5.0",
      "_view_name": "HTMLView",
      "description": "",
      "description_tooltip": null,
      "layout": "IPY_MODEL_16b98715895a42739075b7711e0ba437",
      "placeholder": "​",
      "style": "IPY_MODEL_2ee0ab1bbc1e4cada381cdadbc3dc5f2",
      "value": " 0/50 [00:00&lt;?, ?it/s]"
     }
    },
    "4d55df15f3f947888809d424885dfe55": {
     "model_module": "@jupyter-widgets/controls",
     "model_name": "HBoxModel",
     "state": {
      "_dom_classes": [],
      "_model_module": "@jupyter-widgets/controls",
      "_model_module_version": "1.5.0",
      "_model_name": "HBoxModel",
      "_view_count": null,
      "_view_module": "@jupyter-widgets/controls",
      "_view_module_version": "1.5.0",
      "_view_name": "HBoxView",
      "box_style": "",
      "children": [
       "IPY_MODEL_8a817f317b5c42f592f130f576ee3063",
       "IPY_MODEL_3c5b3c652eab41459f3779503ab44717"
      ],
      "layout": "IPY_MODEL_a3ed74bd975e4e87955a0de33c520916"
     }
    },
    "5098cf4e3a6a4e5fb9daec2f6dc59c9d": {
     "model_module": "@jupyter-widgets/base",
     "model_name": "LayoutModel",
     "state": {
      "_model_module": "@jupyter-widgets/base",
      "_model_module_version": "1.2.0",
      "_model_name": "LayoutModel",
      "_view_count": null,
      "_view_module": "@jupyter-widgets/base",
      "_view_module_version": "1.2.0",
      "_view_name": "LayoutView",
      "align_content": null,
      "align_items": null,
      "align_self": null,
      "border": null,
      "bottom": null,
      "display": null,
      "flex": null,
      "flex_flow": null,
      "grid_area": null,
      "grid_auto_columns": null,
      "grid_auto_flow": null,
      "grid_auto_rows": null,
      "grid_column": null,
      "grid_gap": null,
      "grid_row": null,
      "grid_template_areas": null,
      "grid_template_columns": null,
      "grid_template_rows": null,
      "height": null,
      "justify_content": null,
      "justify_items": null,
      "left": null,
      "margin": null,
      "max_height": null,
      "max_width": null,
      "min_height": null,
      "min_width": null,
      "object_fit": null,
      "object_position": null,
      "order": null,
      "overflow": null,
      "overflow_x": null,
      "overflow_y": null,
      "padding": null,
      "right": null,
      "top": null,
      "visibility": null,
      "width": null
     }
    },
    "8a817f317b5c42f592f130f576ee3063": {
     "model_module": "@jupyter-widgets/controls",
     "model_name": "FloatProgressModel",
     "state": {
      "_dom_classes": [],
      "_model_module": "@jupyter-widgets/controls",
      "_model_module_version": "1.5.0",
      "_model_name": "FloatProgressModel",
      "_view_count": null,
      "_view_module": "@jupyter-widgets/controls",
      "_view_module_version": "1.5.0",
      "_view_name": "ProgressView",
      "bar_style": "",
      "description": "  0%",
      "description_tooltip": null,
      "layout": "IPY_MODEL_5098cf4e3a6a4e5fb9daec2f6dc59c9d",
      "max": 50,
      "min": 0,
      "orientation": "horizontal",
      "style": "IPY_MODEL_de9d1fa4cee24559a816afe706b91081",
      "value": 0
     }
    },
    "a3ed74bd975e4e87955a0de33c520916": {
     "model_module": "@jupyter-widgets/base",
     "model_name": "LayoutModel",
     "state": {
      "_model_module": "@jupyter-widgets/base",
      "_model_module_version": "1.2.0",
      "_model_name": "LayoutModel",
      "_view_count": null,
      "_view_module": "@jupyter-widgets/base",
      "_view_module_version": "1.2.0",
      "_view_name": "LayoutView",
      "align_content": null,
      "align_items": null,
      "align_self": null,
      "border": null,
      "bottom": null,
      "display": null,
      "flex": null,
      "flex_flow": null,
      "grid_area": null,
      "grid_auto_columns": null,
      "grid_auto_flow": null,
      "grid_auto_rows": null,
      "grid_column": null,
      "grid_gap": null,
      "grid_row": null,
      "grid_template_areas": null,
      "grid_template_columns": null,
      "grid_template_rows": null,
      "height": null,
      "justify_content": null,
      "justify_items": null,
      "left": null,
      "margin": null,
      "max_height": null,
      "max_width": null,
      "min_height": null,
      "min_width": null,
      "object_fit": null,
      "object_position": null,
      "order": null,
      "overflow": null,
      "overflow_x": null,
      "overflow_y": null,
      "padding": null,
      "right": null,
      "top": null,
      "visibility": null,
      "width": null
     }
    },
    "de9d1fa4cee24559a816afe706b91081": {
     "model_module": "@jupyter-widgets/controls",
     "model_name": "ProgressStyleModel",
     "state": {
      "_model_module": "@jupyter-widgets/controls",
      "_model_module_version": "1.5.0",
      "_model_name": "ProgressStyleModel",
      "_view_count": null,
      "_view_module": "@jupyter-widgets/base",
      "_view_module_version": "1.2.0",
      "_view_name": "StyleView",
      "bar_color": null,
      "description_width": "initial"
     }
    }
   }
  }
 },
 "nbformat": 4,
 "nbformat_minor": 1
}
