{
 "cells": [
  {
   "cell_type": "code",
   "execution_count": 1,
   "metadata": {
    "colab": {},
    "colab_type": "code",
    "executionInfo": {
     "elapsed": 4868,
     "status": "ok",
     "timestamp": 1599295316162,
     "user": {
      "displayName": "Kaisei Hara",
      "photoUrl": "",
      "userId": "00093271953957882617"
     },
     "user_tz": -540
    },
    "id": "D3apNnoc6Mnn"
   },
   "outputs": [],
   "source": [
    "import torch\n",
    "from tqdm.notebook import tqdm\n",
    "import matplotlib.pyplot as plt\n",
    "import time\n",
    "from jupyterthemes import jtplot\n",
    "jtplot.style(theme='gruvboxd')\n",
    "import torch.nn as nn\n",
    "import torch.nn.functional as F\n",
    "import torch.optim as optim\n",
    "import numpy as np\n",
    "import scipy.stats as stats\n",
    "import pickle\n",
    "import optuna"
   ]
  },
  {
   "cell_type": "code",
   "execution_count": 2,
   "metadata": {
    "colab": {},
    "colab_type": "code",
    "executionInfo": {
     "elapsed": 29932,
     "status": "ok",
     "timestamp": 1599295341242,
     "user": {
      "displayName": "Kaisei Hara",
      "photoUrl": "",
      "userId": "00093271953957882617"
     },
     "user_tz": -540
    },
    "id": "DAmdrdrJws83"
   },
   "outputs": [],
   "source": [
    "# よく使ってる時刻を表示してくれるようになるprint関数のwrapper\n",
    "def datePrint(*args, **kwargs):\n",
    "    from datetime import datetime\n",
    "    print(datetime.now().strftime('[%Y/%m/%d %H:%M:%S] '), end=\"\")\n",
    "    print(*args, **kwargs)"
   ]
  },
  {
   "cell_type": "code",
   "execution_count": 3,
   "metadata": {
    "colab": {
     "base_uri": "https://localhost:8080/",
     "height": 85
    },
    "colab_type": "code",
    "executionInfo": {
     "elapsed": 36848,
     "status": "ok",
     "timestamp": 1599295348164,
     "user": {
      "displayName": "Kaisei Hara",
      "photoUrl": "",
      "userId": "00093271953957882617"
     },
     "user_tz": -540
    },
    "id": "n7mbeduK6Mnv",
    "outputId": "ed61aba2-fb5c-42eb-f135-9b545e9e613c"
   },
   "outputs": [
    {
     "name": "stdout",
     "output_type": "stream",
     "text": [
      "[2020/10/05 15:45:57] loading input_test\n",
      "[2020/10/05 15:45:57] loading target_test\n",
      "[2020/10/05 15:45:57] loading input_train\n",
      "[2020/10/05 15:45:58] loading target_train\n"
     ]
    }
   ],
   "source": [
    "datePrint(\"loading input_test\")\n",
    "input_test = pickle.load(open(\"../data/access_len5_100base/input_test.pkl\",\"rb\"))\n",
    "\n",
    "datePrint(\"loading target_test\")\n",
    "target_test = pickle.load(open(\"../data/access_len5_100base/target_test.pkl\",\"rb\"))\n",
    "\n",
    "datePrint(\"loading input_train\")\n",
    "input_train = pickle.load(open(\"../data/access_len5_100base/input_train.pkl\",\"rb\"))\n",
    "\n",
    "datePrint(\"loading target_train\")\n",
    "target_train = pickle.load(open(\"../data/access_len5_100base/target_train.pkl\",\"rb\"))\n"
   ]
  },
  {
   "cell_type": "code",
   "execution_count": 4,
   "metadata": {
    "colab": {
     "base_uri": "https://localhost:8080/",
     "height": 120
    },
    "colab_type": "code",
    "executionInfo": {
     "elapsed": 36845,
     "status": "ok",
     "timestamp": 1599295348167,
     "user": {
      "displayName": "Kaisei Hara",
      "photoUrl": "",
      "userId": "00093271953957882617"
     },
     "user_tz": -540
    },
    "id": "urLjZpB6l3mD",
    "outputId": "34a5ef1b-f8a6-4bf8-8559-fdcb04bde9f1"
   },
   "outputs": [
    {
     "name": "stdout",
     "output_type": "stream",
     "text": [
      "torch.Size([100000, 4, 100])\n",
      "torch.Size([100000, 96])\n",
      "torch.Size([500000, 4, 100])\n",
      "torch.Size([500000, 96])\n"
     ]
    }
   ],
   "source": [
    "print(input_test.shape)\n",
    "print(target_test.shape)\n",
    "print(input_train.shape)\n",
    "print(target_train.shape)"
   ]
  },
  {
   "cell_type": "code",
   "execution_count": 5,
   "metadata": {
    "colab": {},
    "colab_type": "code",
    "executionInfo": {
     "elapsed": 36843,
     "status": "ok",
     "timestamp": 1599295348168,
     "user": {
      "displayName": "Kaisei Hara",
      "photoUrl": "",
      "userId": "00093271953957882617"
     },
     "user_tz": -540
    },
    "id": "JPvXqnCM6Mn4"
   },
   "outputs": [],
   "source": [
    "class Dataset(torch.utils.data.Dataset):\n",
    "    def __init__(self, data, target, transform=None):\n",
    "        self.transform = transform\n",
    "        self.data = data\n",
    "        self.target = target\n",
    "   \n",
    "    def __len__(self):\n",
    "        return len(self.data)\n",
    "    \n",
    "    def __getitem__(self, index):\n",
    "        out_data = self.data[index]\n",
    "        out_target = self.target[index]\n",
    "        \n",
    "        return out_data, out_target"
   ]
  },
  {
   "cell_type": "code",
   "execution_count": 6,
   "metadata": {},
   "outputs": [],
   "source": [
    "optuna.logging.disable_default_handler()\n",
    "class Net(nn.Module):\n",
    "    def __init__(self, trial, num_layer, num_filters, kernel_sizes):\n",
    "        super(Net, self).__init__()\n",
    "        self.activation = F.relu\n",
    "        self.norm = nn.BatchNorm1d(num_filters[0])\n",
    "        self.conv_first = nn.Conv1d(in_channels=4, out_channels=num_filters[0] ,kernel_size=9)\n",
    "        self.encoder = nn.ModuleList([])\n",
    "        for i in range(1, num_layer):\n",
    "            self.encoder.append(nn.Conv1d(in_channels=num_filters[i-1], out_channels=num_filters[i] ,kernel_size=kernel_sizes[i-1]))\n",
    "        self.decoder = nn.ModuleList([])\n",
    "        for i in reversed(range(1, num_layer)):\n",
    "            self.decoder.append(nn.ConvTranspose1d(in_channels=num_filters[i], out_channels=num_filters[i-1] ,kernel_size=kernel_sizes[i-1]))\n",
    "        self.conv_last = nn.ConvTranspose1d(in_channels=num_filters[0], out_channels=1 ,kernel_size=5)\n",
    "\n",
    "    def forward(self, x):\n",
    "        x = self.activation(self.conv_first(x))\n",
    "        x = self.norm(x)\n",
    "        #x_input = x.clone()\n",
    "        for c in self.encoder:\n",
    "            x = c(x)\n",
    "            x = self.activation(x)\n",
    "        #x = x + x_input\n",
    "        #x_input = x.clone()\n",
    "        for c in self.decoder:\n",
    "            x = c(x)\n",
    "            x = self.activation(x)\n",
    "        #x = x + x_input\n",
    "        self.norm(x)\n",
    "        x = self.conv_last(x)\n",
    "        x = x.view(x.shape[0], -1)\n",
    "        return x"
   ]
  },
  {
   "cell_type": "code",
   "execution_count": 7,
   "metadata": {},
   "outputs": [],
   "source": [
    "def train(model, device, train_loader, optimizer):\n",
    "    criterion = nn.MSELoss().cuda()\n",
    "    train_loss = 0\n",
    "    model.train()\n",
    "    for batch_idx, (data, target) in enumerate(train_loader):\n",
    "        data, target = data.to(device), target.to(device)\n",
    "        optimizer.zero_grad()\n",
    "        output = model(data)\n",
    "        loss = criterion(output, target)\n",
    "        train_loss += loss.item()\n",
    "        loss.backward()\n",
    "        optimizer.step()\n",
    "    avg_train_loss = train_loss / len(train_loader)\n",
    "    #train_loss_list.append(avg_train_loss)\n",
    "\n",
    "def test(model, device, test_loader):\n",
    "    criterion = nn.MSELoss().cuda()\n",
    "    val_loss = 0\n",
    "    model.eval()\n",
    "    data_all = []\n",
    "    target_all = []\n",
    "    output_all = []\n",
    "    loss_list = []\n",
    "    with torch.no_grad():\n",
    "        for data, target in test_loader:\n",
    "            data, target = data.to(device), target.to(device)\n",
    "            output = model(data)\n",
    "            for i in range(len(target)):\n",
    "                data_all.append(data[i].cpu().numpy())\n",
    "                target_all.append(target[i].cpu().numpy())\n",
    "                output_all.append(output[i].cpu().numpy())\n",
    "                loss_list.append(criterion(output[i], target[i]).item())\n",
    "            loss = criterion(output, target)\n",
    "            val_loss += loss.item()\n",
    "            avg_val_loss = val_loss / len(test_loader)\n",
    "        #val_loss_list.append(avg_val_loss)\n",
    "        \n",
    "    return avg_val_loss, data_all, target_all, output_all, loss_list"
   ]
  },
  {
   "cell_type": "code",
   "execution_count": 8,
   "metadata": {},
   "outputs": [
    {
     "data": {
      "text/plain": [
       "\"\\ndef get_activation(trial):\\n    activation_names = ['ReLU', 'Leaky_ReLU']\\n    activation_name = trial.suggest_categorical('activation', activation_names)\\n    if activation_name == activation_names[0]:\\n        activation = F.relu\\n    else:\\n        activation = F.leaky_relu\\n    return activation\\n\""
      ]
     },
     "execution_count": 8,
     "metadata": {},
     "output_type": "execute_result"
    }
   ],
   "source": [
    "'''\n",
    "def get_activation(trial):\n",
    "    activation_names = ['ReLU', 'Leaky_ReLU']\n",
    "    activation_name = trial.suggest_categorical('activation', activation_names)\n",
    "    if activation_name == activation_names[0]:\n",
    "        activation = F.relu\n",
    "    else:\n",
    "        activation = F.leaky_relu\n",
    "    return activation\n",
    "'''"
   ]
  },
  {
   "cell_type": "code",
   "execution_count": 9,
   "metadata": {},
   "outputs": [],
   "source": [
    "def get_optimizer(trial, model):\n",
    "    optimizer_names = ['Adam', 'MomentumSGD', 'rmsprop']\n",
    "    optimizer_name = trial.suggest_categorical('optimizer', optimizer_names)\n",
    "    weight_decay = trial.suggest_loguniform('weight_decay', 1e-10, 1e-3)\n",
    "    if optimizer_name == optimizer_names[0]: \n",
    "        adam_lr = trial.suggest_loguniform('adam_lr', 1e-7, 1e-2)\n",
    "        optimizer = optim.Adam(model.parameters(), lr=adam_lr, weight_decay=weight_decay)\n",
    "    elif optimizer_name == optimizer_names[1]:\n",
    "        momentum_sgd_lr = trial.suggest_loguniform('momentum_sgd_lr', 1e-7, 1e-2)\n",
    "        optimizer = optim.SGD(model.parameters(), lr=momentum_sgd_lr, momentum=0.9, weight_decay=weight_decay)\n",
    "    else:\n",
    "        optimizer = optim.RMSprop(model.parameters())\n",
    "    return optimizer"
   ]
  },
  {
   "cell_type": "code",
   "execution_count": 10,
   "metadata": {},
   "outputs": [],
   "source": [
    "epoch = 20\n",
    "def objective(trial):\n",
    "    device = \"cuda\" if torch.cuda.is_available() else \"cpu\"\n",
    "    \n",
    "    #畳み込み層の数\n",
    "    num_layer = trial.suggest_int('num_layer', 1, 10)\n",
    "    \n",
    "    #FC層のユニット数\n",
    "    #mid_units = int(trial.suggest_discrete_uniform(\"mid_units\", 100, 500, 100))\n",
    "\n",
    "    #各畳込み層のフィルタ数\n",
    "    num_filters = [int(trial.suggest_discrete_uniform(\"num_filter_\"+str(i), 16, 192, 16)) for i in range(num_layer)]\n",
    "    #各畳み込み層のカーネルサイズ\n",
    "    kernel_sizes = [int(trial.suggest_discrete_uniform(\"kernel_size_\"+str(i), 3, 9, 2)) for i in range(num_layer-1)]\n",
    "\n",
    "    model = Net(trial, num_layer, num_filters, kernel_sizes).to(device)\n",
    "    optimizer = get_optimizer(trial, model)\n",
    "    #optimizer = optim.SGD(model.parameters(), lr=8e-3, momentum=0.9, weight_decay=8e-9)\n",
    "    \n",
    "\n",
    "    for step in tqdm(range(epoch)):\n",
    "        train(model, device, train_loader, optimizer)\n",
    "        avg_val_loss, data_all, target_all, output_all, loss_list = test(model, device, test_loader)\n",
    "    \n",
    "    print('test_loss: {:.3f}'.format(avg_val_loss))\n",
    "    plt.figure(figsize=(7, 7), dpi=70)\n",
    "    plt.scatter(target_all, output_all, s=0.1, c='yellow', marker='.')\n",
    "    plt.xlim(0, 15)\n",
    "    plt.ylim(-0.5, 15)\n",
    "    plt.xlabel('target')\n",
    "    plt.ylabel('output')\n",
    "    plt.show()\n",
    "    \n",
    "    cor_list = []\n",
    "    for n in range(len(target_all)):\n",
    "        cor = np.corrcoef(target_all[n], output_all[n])\n",
    "        cor_list.append(cor[0, 1])\n",
    "    plt.hist(cor_list)\n",
    "    plt.xlabel('correlation coefficient')\n",
    "    plt.ylabel('count')\n",
    "    plt.show()\n",
    "    print(np.average(cor_list))\n",
    "\n",
    "    plt.figure(figsize=(15, 7))\n",
    "    plt.bar(np.array(range(len(target_all[0])))-0.2 , target_all[np.argmax(cor_list)], label='target', color='b', width=0.4, align='center')\n",
    "    plt.bar(np.array(range(len(target_all[0])))+0.2 , output_all[np.argmax(cor_list)], label='output', color='r', width=0.4, align='center')\n",
    "    plt.legend()\n",
    "    plt.title('cor_max')\n",
    "    plt.show()\n",
    "\n",
    "    plt.figure(figsize=(15, 7))\n",
    "    plt.bar(np.array(range(len(target_all[0])))-0.2 , target_all[np.argmin(cor_list)], label='target', color='b', width=0.4, align='center')\n",
    "    plt.bar(np.array(range(len(target_all[0])))+0.2 , output_all[np.argmin(cor_list)], label='output', color='r', width=0.4, align='center')\n",
    "    plt.legend()\n",
    "    plt.title('cor_min')\n",
    "    plt.show()\n",
    "\n",
    "    plt.figure(figsize=(15, 7))\n",
    "    plt.bar(np.array(range(len(target_all[0])))-0.2 , target_all[np.argmax(loss_list)], label='target', color='b', width=0.4, align='center')\n",
    "    plt.bar(np.array(range(len(target_all[0])))+0.2 , output_all[np.argmax(loss_list)], label='output', color='r', width=0.4, align='center')\n",
    "    plt.legend()\n",
    "    plt.title('loss_max')\n",
    "    plt.show()\n",
    "\n",
    "    plt.figure(figsize=(15, 7))\n",
    "    plt.bar(np.array(range(len(target_all[0])))-0.2 , target_all[np.argmin(loss_list)], label='target', color='b', width=0.4, align='center')\n",
    "    plt.bar(np.array(range(len(target_all[0])))+0.2 , output_all[np.argmin(loss_list)], label='output', color='r', width=0.4, align='center')\n",
    "    plt.legend()\n",
    "    plt.title('loss_min')\n",
    "    plt.show()\n",
    "    \n",
    "    return avg_val_loss"
   ]
  },
  {
   "cell_type": "code",
   "execution_count": null,
   "metadata": {
    "colab": {
     "base_uri": "https://localhost:8080/",
     "height": 66,
     "referenced_widgets": [
      "4d55df15f3f947888809d424885dfe55",
      "a3ed74bd975e4e87955a0de33c520916",
      "8a817f317b5c42f592f130f576ee3063",
      "3c5b3c652eab41459f3779503ab44717",
      "de9d1fa4cee24559a816afe706b91081",
      "5098cf4e3a6a4e5fb9daec2f6dc59c9d",
      "2ee0ab1bbc1e4cada381cdadbc3dc5f2",
      "16b98715895a42739075b7711e0ba437"
     ]
    },
    "colab_type": "code",
    "id": "FK5eCRTe6MoS",
    "outputId": "ae6267ee-0394-44aa-e1bd-0af90e62456d",
    "scrolled": false
   },
   "outputs": [
    {
     "data": {
      "application/vnd.jupyter.widget-view+json": {
       "model_id": "80cf0579377d4970aef3576d75419c65",
       "version_major": 2,
       "version_minor": 0
      },
      "text/plain": [
       "HBox(children=(FloatProgress(value=0.0, max=20.0), HTML(value='')))"
      ]
     },
     "metadata": {},
     "output_type": "display_data"
    },
    {
     "name": "stdout",
     "output_type": "stream",
     "text": [
      "\n",
      "test_loss: 2.550\n"
     ]
    },
    {
     "data": {
      "image/png": "[encoded data removed]",
      "text/plain": [
       "<Figure size 490x490 with 1 Axes>"
      ]
     },
     "metadata": {},
     "output_type": "display_data"
    },
    {
     "data": {
      "image/png": "[encoded data removed]",
      "text/plain": [
       "<Figure size 460.8x403.2 with 1 Axes>"
      ]
     },
     "metadata": {},
     "output_type": "display_data"
    },
    {
     "name": "stdout",
     "output_type": "stream",
     "text": [
      "0.13632902270042277\n"
     ]
    },
    {
     "data": {
      "image/png": "[encoded data removed]",
      "text/plain": [
       "<Figure size 1080x504 with 1 Axes>"
      ]
     },
     "metadata": {},
     "output_type": "display_data"
    },
    {
     "data": {
      "image/png": "[encoded data removed]",
      "text/plain": [
       "<Figure size 1080x504 with 1 Axes>"
      ]
     },
     "metadata": {},
     "output_type": "display_data"
    },
    {
     "data": {
      "image/png": "[encoded data removed]",
      "text/plain": [
       "<Figure size 1080x504 with 1 Axes>"
      ]
     },
     "metadata": {},
     "output_type": "display_data"
    },
    {
     "data": {
      "image/png": "[encoded data removed]",
      "text/plain": [
       "<Figure size 1080x504 with 1 Axes>"
      ]
     },
     "metadata": {},
     "output_type": "display_data"
    },
    {
     "data": {
      "application/vnd.jupyter.widget-view+json": {
       "model_id": "1f257e44ea10445980d048e4fecfeedb",
       "version_major": 2,
       "version_minor": 0
      },
      "text/plain": [
       "HBox(children=(FloatProgress(value=0.0, max=20.0), HTML(value='')))"
      ]
     },
     "metadata": {},
     "output_type": "display_data"
    }
   ],
   "source": [
    "datanumloss_list = []\n",
    "datanumcor_list = []\n",
    "listing = [1]\n",
    "\n",
    "for abc in listing:\n",
    "  prm = abc\n",
    "\n",
    "  train_dataset = Dataset(input_train[0:300000], target_train[0:300000])\n",
    "  test_dataset = Dataset(input_test[0:5000], target_test[0:5000])\n",
    "  train_loader = torch.utils.data.DataLoader(train_dataset, batch_size=256,shuffle=True, num_workers=2)\n",
    "  test_loader = torch.utils.data.DataLoader(test_dataset, batch_size=256,shuffle=True, num_workers=2)\n",
    "\n",
    "\n",
    "trial = 100\n",
    "study = optuna.create_study()\n",
    "study.optimize(objective, n_trials=trial)\n",
    "\n",
    "print(study.best_params)\n",
    "print(study.best_value)\n",
    "\n",
    "para_log = study.trials"
   ]
  },
  {
   "cell_type": "code",
   "execution_count": null,
   "metadata": {},
   "outputs": [],
   "source": [
    "print(study.best_params)\n",
    "print(study.best_value)"
   ]
  },
  {
   "cell_type": "code",
   "execution_count": null,
   "metadata": {},
   "outputs": [],
   "source": [
    "print(study.trials)"
   ]
  },
  {
   "cell_type": "code",
   "execution_count": null,
   "metadata": {
    "colab": {},
    "colab_type": "code",
    "id": "ZF7VPxIz0bcZ"
   },
   "outputs": [],
   "source": [
    "cor_max = []\n",
    "cor_min = []\n",
    "loss_max = []\n",
    "loss_min = []\n",
    "for i in range(1000):\n",
    "  if (test_dataloader.dataset[np.argmax(cor_list)][0][0][i]==1):\n",
    "    cor_max.append('A')\n",
    "  elif (test_dataloader.dataset[np.argmax(cor_list)][0][1][i]==1):\n",
    "    cor_max.append('U')\n",
    "  elif (test_dataloader.dataset[np.argmax(cor_list)][0][2][i]==1):\n",
    "    cor_max.append('G')\n",
    "  elif (test_dataloader.dataset[np.argmax(cor_list)][0][3][i]==1):\n",
    "    cor_max.append('C')\n",
    "\n",
    "  if (test_dataloader.dataset[np.argmin(cor_list)][0][0][i]==1):\n",
    "    cor_min.append('A')\n",
    "  elif (test_dataloader.dataset[np.argmin(cor_list)][0][1][i]==1):\n",
    "    cor_min.append('U')\n",
    "  elif (test_dataloader.dataset[np.argmin(cor_list)][0][2][i]==1):\n",
    "    cor_min.append('G')\n",
    "  elif (test_dataloader.dataset[np.argmin(cor_list)][0][3][i]==1):\n",
    "    cor_min.append('C')\n",
    "\n",
    "  if (test_dataloader.dataset[np.argmax(loss_list)][0][0][i]==1):\n",
    "    loss_max.append('A')\n",
    "  elif (test_dataloader.dataset[np.argmax(loss_list)][0][1][i]==1):\n",
    "    loss_max.append('U')\n",
    "  elif (test_dataloader.dataset[np.argmax(loss_list)][0][2][i]==1):\n",
    "    loss_max.append('G')\n",
    "  elif (test_dataloader.dataset[np.argmax(loss_list)][0][3][i]==1):\n",
    "    loss_max.append('C')\n",
    "\n",
    "  if (test_dataloader.dataset[np.argmin(loss_list)][0][0][i]==1):\n",
    "    loss_min.append('A')\n",
    "  elif (test_dataloader.dataset[np.argmin(loss_list)][0][1][i]==1):\n",
    "    loss_min.append('U')\n",
    "  elif (test_dataloader.dataset[np.argmin(loss_list)][0][2][i]==1):\n",
    "    loss_min.append('G')\n",
    "  elif (test_dataloader.dataset[np.argmin(loss_list)][0][3][i]==1):\n",
    "    loss_min.append('C')\n",
    "print('cor_max', ''.join(cor_max))\n",
    "print('cor_min', ''.join(cor_min))\n",
    "print('loss_max', ''.join(loss_max))\n",
    "print('loss_min', ''.join(loss_min))"
   ]
  }
 ],
 "metadata": {
  "accelerator": "GPU",
  "colab": {
   "collapsed_sections": [],
   "name": "CNN.ipynb",
   "provenance": [
    {
     "file_id": "1ir0IJd6vc8l_FMQY9-YSFWxAQiIxZF6p",
     "timestamp": 1591723758584
    },
    {
     "file_id": "1cSw8tGp7_Atz1RUom-WbFEdJ1yVDgKCC",
     "timestamp": 1591700460320
    },
    {
     "file_id": "1-iiGLGF3JfbxpJ5cz5GyMTmbOMxhDH6D",
     "timestamp": 1591434878746
    }
   ]
  },
  "kernelspec": {
   "display_name": "Python 3",
   "language": "python",
   "name": "python3"
  },
  "language_info": {
   "codemirror_mode": {
    "name": "ipython",
    "version": 3
   },
   "file_extension": ".py",
   "mimetype": "text/x-python",
   "name": "python",
   "nbconvert_exporter": "python",
   "pygments_lexer": "ipython3",
   "version": "3.7.8"
  },
  "widgets": {
   "application/vnd.jupyter.widget-state+json": {
    "16b98715895a42739075b7711e0ba437": {
     "model_module": "@jupyter-widgets/base",
     "model_name": "LayoutModel",
     "state": {
      "_model_module": "@jupyter-widgets/base",
      "_model_module_version": "1.2.0",
      "_model_name": "LayoutModel",
      "_view_count": null,
      "_view_module": "@jupyter-widgets/base",
      "_view_module_version": "1.2.0",
      "_view_name": "LayoutView",
      "align_content": null,
      "align_items": null,
      "align_self": null,
      "border": null,
      "bottom": null,
      "display": null,
      "flex": null,
      "flex_flow": null,
      "grid_area": null,
      "grid_auto_columns": null,
      "grid_auto_flow": null,
      "grid_auto_rows": null,
      "grid_column": null,
      "grid_gap": null,
      "grid_row": null,
      "grid_template_areas": null,
      "grid_template_columns": null,
      "grid_template_rows": null,
      "height": null,
      "justify_content": null,
      "justify_items": null,
      "left": null,
      "margin": null,
      "max_height": null,
      "max_width": null,
      "min_height": null,
      "min_width": null,
      "object_fit": null,
      "object_position": null,
      "order": null,
      "overflow": null,
      "overflow_x": null,
      "overflow_y": null,
      "padding": null,
      "right": null,
      "top": null,
      "visibility": null,
      "width": null
     }
    },
    "2ee0ab1bbc1e4cada381cdadbc3dc5f2": {
     "model_module": "@jupyter-widgets/controls",
     "model_name": "DescriptionStyleModel",
     "state": {
      "_model_module": "@jupyter-widgets/controls",
      "_model_module_version": "1.5.0",
      "_model_name": "DescriptionStyleModel",
      "_view_count": null,
      "_view_module": "@jupyter-widgets/base",
      "_view_module_version": "1.2.0",
      "_view_name": "StyleView",
      "description_width": ""
     }
    },
    "3c5b3c652eab41459f3779503ab44717": {
     "model_module": "@jupyter-widgets/controls",
     "model_name": "HTMLModel",
     "state": {
      "_dom_classes": [],
      "_model_module": "@jupyter-widgets/controls",
      "_model_module_version": "1.5.0",
      "_model_name": "HTMLModel",
      "_view_count": null,
      "_view_module": "@jupyter-widgets/controls",
      "_view_module_version": "1.5.0",
      "_view_name": "HTMLView",
      "description": "",
      "description_tooltip": null,
      "layout": "IPY_MODEL_16b98715895a42739075b7711e0ba437",
      "placeholder": "​",
      "style": "IPY_MODEL_2ee0ab1bbc1e4cada381cdadbc3dc5f2",
      "value": " 0/50 [00:00&lt;?, ?it/s]"
     }
    },
    "4d55df15f3f947888809d424885dfe55": {
     "model_module": "@jupyter-widgets/controls",
     "model_name": "HBoxModel",
     "state": {
      "_dom_classes": [],
      "_model_module": "@jupyter-widgets/controls",
      "_model_module_version": "1.5.0",
      "_model_name": "HBoxModel",
      "_view_count": null,
      "_view_module": "@jupyter-widgets/controls",
      "_view_module_version": "1.5.0",
      "_view_name": "HBoxView",
      "box_style": "",
      "children": [
       "IPY_MODEL_8a817f317b5c42f592f130f576ee3063",
       "IPY_MODEL_3c5b3c652eab41459f3779503ab44717"
      ],
      "layout": "IPY_MODEL_a3ed74bd975e4e87955a0de33c520916"
     }
    },
    "5098cf4e3a6a4e5fb9daec2f6dc59c9d": {
     "model_module": "@jupyter-widgets/base",
     "model_name": "LayoutModel",
     "state": {
      "_model_module": "@jupyter-widgets/base",
      "_model_module_version": "1.2.0",
      "_model_name": "LayoutModel",
      "_view_count": null,
      "_view_module": "@jupyter-widgets/base",
      "_view_module_version": "1.2.0",
      "_view_name": "LayoutView",
      "align_content": null,
      "align_items": null,
      "align_self": null,
      "border": null,
      "bottom": null,
      "display": null,
      "flex": null,
      "flex_flow": null,
      "grid_area": null,
      "grid_auto_columns": null,
      "grid_auto_flow": null,
      "grid_auto_rows": null,
      "grid_column": null,
      "grid_gap": null,
      "grid_row": null,
      "grid_template_areas": null,
      "grid_template_columns": null,
      "grid_template_rows": null,
      "height": null,
      "justify_content": null,
      "justify_items": null,
      "left": null,
      "margin": null,
      "max_height": null,
      "max_width": null,
      "min_height": null,
      "min_width": null,
      "object_fit": null,
      "object_position": null,
      "order": null,
      "overflow": null,
      "overflow_x": null,
      "overflow_y": null,
      "padding": null,
      "right": null,
      "top": null,
      "visibility": null,
      "width": null
     }
    },
    "8a817f317b5c42f592f130f576ee3063": {
     "model_module": "@jupyter-widgets/controls",
     "model_name": "FloatProgressModel",
     "state": {
      "_dom_classes": [],
      "_model_module": "@jupyter-widgets/controls",
      "_model_module_version": "1.5.0",
      "_model_name": "FloatProgressModel",
      "_view_count": null,
      "_view_module": "@jupyter-widgets/controls",
      "_view_module_version": "1.5.0",
      "_view_name": "ProgressView",
      "bar_style": "",
      "description": "  0%",
      "description_tooltip": null,
      "layout": "IPY_MODEL_5098cf4e3a6a4e5fb9daec2f6dc59c9d",
      "max": 50,
      "min": 0,
      "orientation": "horizontal",
      "style": "IPY_MODEL_de9d1fa4cee24559a816afe706b91081",
      "value": 0
     }
    },
    "a3ed74bd975e4e87955a0de33c520916": {
     "model_module": "@jupyter-widgets/base",
     "model_name": "LayoutModel",
     "state": {
      "_model_module": "@jupyter-widgets/base",
      "_model_module_version": "1.2.0",
      "_model_name": "LayoutModel",
      "_view_count": null,
      "_view_module": "@jupyter-widgets/base",
      "_view_module_version": "1.2.0",
      "_view_name": "LayoutView",
      "align_content": null,
      "align_items": null,
      "align_self": null,
      "border": null,
      "bottom": null,
      "display": null,
      "flex": null,
      "flex_flow": null,
      "grid_area": null,
      "grid_auto_columns": null,
      "grid_auto_flow": null,
      "grid_auto_rows": null,
      "grid_column": null,
      "grid_gap": null,
      "grid_row": null,
      "grid_template_areas": null,
      "grid_template_columns": null,
      "grid_template_rows": null,
      "height": null,
      "justify_content": null,
      "justify_items": null,
      "left": null,
      "margin": null,
      "max_height": null,
      "max_width": null,
      "min_height": null,
      "min_width": null,
      "object_fit": null,
      "object_position": null,
      "order": null,
      "overflow": null,
      "overflow_x": null,
      "overflow_y": null,
      "padding": null,
      "right": null,
      "top": null,
      "visibility": null,
      "width": null
     }
    },
    "de9d1fa4cee24559a816afe706b91081": {
     "model_module": "@jupyter-widgets/controls",
     "model_name": "ProgressStyleModel",
     "state": {
      "_model_module": "@jupyter-widgets/controls",
      "_model_module_version": "1.5.0",
      "_model_name": "ProgressStyleModel",
      "_view_count": null,
      "_view_module": "@jupyter-widgets/base",
      "_view_module_version": "1.2.0",
      "_view_name": "StyleView",
      "bar_color": null,
      "description_width": "initial"
     }
    }
   }
  }
 },
 "nbformat": 4,
 "nbformat_minor": 1
}
