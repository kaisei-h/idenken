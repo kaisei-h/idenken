{
 "cells": [
  {
   "cell_type": "code",
   "execution_count": 1,
   "id": "ef426644",
   "metadata": {},
   "outputs": [],
   "source": [
    "import pandas as pd\n",
    "import pickle"
   ]
  },
  {
   "cell_type": "code",
   "execution_count": null,
   "id": "e11d6e31",
   "metadata": {},
   "outputs": [],
   "source": [
    "with open('gencode.v39.transcripts.fa', mode='r', encoding='utf-8') as f:\n",
    "    df_raw = pd.DataFrame(f.readlines())"
   ]
  },
  {
   "cell_type": "code",
   "execution_count": null,
   "id": "6102a451",
   "metadata": {},
   "outputs": [],
   "source": [
    "df_raw[0].head()"
   ]
  },
  {
   "cell_type": "code",
   "execution_count": null,
   "id": "edad5540",
   "metadata": {},
   "outputs": [],
   "source": [
    "name_index = df_raw.index[df_raw[0].str.contains('>')].tolist()\n",
    "name_index[:10]"
   ]
  },
  {
   "cell_type": "code",
   "execution_count": null,
   "id": "f7a03eff",
   "metadata": {},
   "outputs": [],
   "source": [
    "sequences = pd.Series()"
   ]
  },
  {
   "cell_type": "code",
   "execution_count": null,
   "id": "413e42df",
   "metadata": {},
   "outputs": [],
   "source": [
    "count = 0\n",
    "for i, line in enumerate(df_raw[0]):\n",
    "    if (i==[name_index[count]][0]):\n",
    "        sequences[line] = ''\n",
    "        count += 1\n",
    "    else:\n",
    "        sequences[df_raw[0][name_index[count-1]]] = sequences[df_raw[0][name_index[count-1]]] + df_raw[0][i].rstrip('\\n')\n",
    "    #試作中に行きすぎないよう\n",
    "    # if (i==500):\n",
    "    #     break"
   ]
  },
  {
   "cell_type": "code",
   "execution_count": null,
   "id": "c1b4fd2a",
   "metadata": {},
   "outputs": [],
   "source": [
    "sequences"
   ]
  },
  {
   "cell_type": "code",
   "execution_count": null,
   "id": "7eb663be",
   "metadata": {},
   "outputs": [],
   "source": [
    "sequences.to_pickle('sequences.pkl')"
   ]
  },
  {
   "cell_type": "markdown",
   "id": "ed5537ae",
   "metadata": {},
   "source": [
    "## ここからtarget側に入ります"
   ]
  },
  {
   "cell_type": "code",
   "execution_count": 2,
   "id": "e5197278",
   "metadata": {},
   "outputs": [],
   "source": [
    "with open('human_retry.txt', mode='r', encoding='utf-8') as f:\n",
    "    df_raw = pd.DataFrame(f.readlines())"
   ]
  },
  {
   "cell_type": "code",
   "execution_count": 3,
   "id": "9e33df36",
   "metadata": {},
   "outputs": [
    {
     "data": {
      "text/plain": [
       "<bound method NDFrame.head of                                                            0\n",
       "0          >ENST00000456328.2|ENSG00000223972.5|OTTHUMG00...\n",
       "1                                         1652\\t5,2.75963;\\n\n",
       "2                                         1651\\t5,3.74253;\\n\n",
       "3                                         1650\\t5,6.49098;\\n\n",
       "4                                          1649\\t5,8.5129;\\n\n",
       "...                                                      ...\n",
       "411439763                                    3\\t5,8.06935;\\n\n",
       "411439764                                    2\\t5,9.07034;\\n\n",
       "411439765                                    1\\t5,9.08644;\\n\n",
       "411439766                                    0\\t5,9.05754;\\n\n",
       "411439767                                                 \\n\n",
       "\n",
       "[411439768 rows x 1 columns]>"
      ]
     },
     "execution_count": 3,
     "metadata": {},
     "output_type": "execute_result"
    }
   ],
   "source": [
    "df_raw.head"
   ]
  },
  {
   "cell_type": "code",
   "execution_count": 4,
   "id": "1caea8ba",
   "metadata": {},
   "outputs": [
    {
     "data": {
      "text/plain": [
       "244939"
      ]
     },
     "execution_count": 4,
     "metadata": {},
     "output_type": "execute_result"
    }
   ],
   "source": [
    "name_index = df_raw.index[df_raw[0].str.contains('>')].tolist()\n",
    "len(name_index)"
   ]
  },
  {
   "cell_type": "code",
   "execution_count": 5,
   "id": "934da96e",
   "metadata": {},
   "outputs": [
    {
     "name": "stderr",
     "output_type": "stream",
     "text": [
      "/usr/local/lib/python3.7/site-packages/ipykernel_launcher.py:1: DeprecationWarning: The default dtype for empty Series will be 'object' instead of 'float64' in a future version. Specify a dtype explicitly to silence this warning.\n",
      "  \"\"\"Entry point for launching an IPython kernel.\n"
     ]
    }
   ],
   "source": [
    "sequences = pd.Series()"
   ]
  },
  {
   "cell_type": "code",
   "execution_count": 6,
   "id": "499750e8",
   "metadata": {},
   "outputs": [],
   "source": [
    "import re"
   ]
  },
  {
   "cell_type": "code",
   "execution_count": 7,
   "id": "ff0ca21e",
   "metadata": {},
   "outputs": [
    {
     "ename": "IndexError",
     "evalue": "list index out of range",
     "output_type": "error",
     "traceback": [
      "\u001b[0;31m---------------------------------------------------------------------------\u001b[0m",
      "\u001b[0;31mIndexError\u001b[0m                                Traceback (most recent call last)",
      "\u001b[0;32m/tmp/ipykernel_78207/944315213.py\u001b[0m in \u001b[0;36m<module>\u001b[0;34m\u001b[0m\n\u001b[1;32m      1\u001b[0m \u001b[0mcount\u001b[0m \u001b[0;34m=\u001b[0m \u001b[0;36m0\u001b[0m\u001b[0;34m\u001b[0m\u001b[0;34m\u001b[0m\u001b[0m\n\u001b[1;32m      2\u001b[0m \u001b[0;32mfor\u001b[0m \u001b[0mi\u001b[0m\u001b[0;34m,\u001b[0m \u001b[0mline\u001b[0m \u001b[0;32min\u001b[0m \u001b[0menumerate\u001b[0m\u001b[0;34m(\u001b[0m\u001b[0mdf_raw\u001b[0m\u001b[0;34m[\u001b[0m\u001b[0;36m0\u001b[0m\u001b[0;34m]\u001b[0m\u001b[0;34m)\u001b[0m\u001b[0;34m:\u001b[0m\u001b[0;34m\u001b[0m\u001b[0;34m\u001b[0m\u001b[0m\n\u001b[0;32m----> 3\u001b[0;31m     \u001b[0;32mif\u001b[0m \u001b[0;34m(\u001b[0m\u001b[0mi\u001b[0m\u001b[0;34m==\u001b[0m\u001b[0;34m[\u001b[0m\u001b[0mname_index\u001b[0m\u001b[0;34m[\u001b[0m\u001b[0mcount\u001b[0m\u001b[0;34m]\u001b[0m\u001b[0;34m]\u001b[0m\u001b[0;34m[\u001b[0m\u001b[0;36m0\u001b[0m\u001b[0;34m]\u001b[0m\u001b[0;34m)\u001b[0m\u001b[0;34m:\u001b[0m\u001b[0;34m\u001b[0m\u001b[0;34m\u001b[0m\u001b[0m\n\u001b[0m\u001b[1;32m      4\u001b[0m         \u001b[0msequences\u001b[0m\u001b[0;34m[\u001b[0m\u001b[0mline\u001b[0m\u001b[0;34m]\u001b[0m \u001b[0;34m=\u001b[0m \u001b[0;34m''\u001b[0m\u001b[0;34m\u001b[0m\u001b[0;34m\u001b[0m\u001b[0m\n\u001b[1;32m      5\u001b[0m         \u001b[0mcount\u001b[0m \u001b[0;34m+=\u001b[0m \u001b[0;36m1\u001b[0m\u001b[0;34m\u001b[0m\u001b[0;34m\u001b[0m\u001b[0m\n",
      "\u001b[0;31mIndexError\u001b[0m: list index out of range"
     ]
    }
   ],
   "source": [
    "count = 0\n",
    "for i, line in enumerate(df_raw[0]):\n",
    "    if (i==[name_index[count]][0]):\n",
    "        sequences[line] = ''\n",
    "        count += 1\n",
    "    else:\n",
    "        sequences[df_raw[0][name_index[count-1]]] = sequences[df_raw[0][name_index[count-1]]] + re.sub(r'\\d+\\t5','',df_raw[0][i]).rstrip(';\\n')\n",
    "    # if (i==50000):\n",
    "    #     break"
   ]
  },
  {
   "cell_type": "code",
   "execution_count": 8,
   "id": "92443d0a",
   "metadata": {},
   "outputs": [
    {
     "data": {
      "text/plain": [
       ">ENST00000456328.2|ENSG00000223972.5|OTTHUMG00000000961.2|OTTHUMT00000362751.1|DDX11L1-202|DDX11L1|1657|processed_transcript|\\n                 ,2.75963,3.74253,6.49098,8.5129,8.96709,9.0653...\n",
       ">ENST00000450305.2|ENSG00000223972.5|OTTHUMG00000000961.2|OTTHUMT00000002844.2|DDX11L1-201|DDX11L1|632|transcribed_unprocessed_pseudogene|\\n    ,2.258,2.30794,2.33991,2.33876,2.46248,1.23872...\n",
       ">ENST00000488147.1|ENSG00000227232.5|OTTHUMG00000000958.1|OTTHUMT00000002839.1|WASH7P-201|WASH7P|1351|unprocessed_pseudogene|\\n                 ,2.22498,2.35681,2.55085,2.58041,2.62294,2.605...\n",
       ">ENST00000619216.1|ENSG00000278267.1|-|-|MIR6859-1-201|MIR6859-1|68|miRNA|\\n                                                                    ,2.00031,5.383,6.19813,7.72055,7.97902,7.97111...\n",
       ">ENST00000473358.1|ENSG00000243485.5|OTTHUMG00000000959.2|OTTHUMT00000002840.1|MIR1302-2HG-202|MIR1302-2HG|712|lncRNA|\\n                        ,0.056234,0.0544085,0.054602,0.0486438,0.05109...\n",
       "                                                                                                                                                                      ...                        \n",
       ">ENST00000361681.2|ENSG00000198695.2|-|-|MT-ND6-201|MT-ND6|525|protein_coding|\\n                                                                ,0.49418,0.517246,0.532746,0.587294,0.662901,0...\n",
       ">ENST00000387459.1|ENSG00000210194.1|-|-|MT-TE-201|MT-TE|69|Mt_tRNA|\\n                                                                          ,6.47313,7.3187,7.65946,8.78385,8.80194,8.1545...\n",
       ">ENST00000361789.2|ENSG00000198727.2|-|-|MT-CYB-201|MT-CYB|1141|protein_coding|\\n                                                               ,4.19049,4.35228,4.37056,4.37191,4.55269,4.229...\n",
       ">ENST00000387460.2|ENSG00000210195.2|-|-|MT-TT-201|MT-TT|66|Mt_tRNA|\\n                                                                          ,8.53848,8.54773,8.5083,9.56009,8.49207,4.7275...\n",
       ">ENST00000387461.2|ENSG00000210196.2|-|-|MT-TP-201|MT-TP|68|Mt_tRNA|\\n                                                                                                                           \n",
       "Length: 244939, dtype: object"
      ]
     },
     "execution_count": 8,
     "metadata": {},
     "output_type": "execute_result"
    }
   ],
   "source": [
    "sequences"
   ]
  },
  {
   "cell_type": "code",
   "execution_count": 9,
   "id": "f3fd1a7a",
   "metadata": {},
   "outputs": [],
   "source": [
    "sequences.to_pickle('human_target.pkl')"
   ]
  },
  {
   "cell_type": "code",
   "execution_count": 11,
   "id": "5063ba9f-ac9c-404e-8c3e-067e536a1785",
   "metadata": {},
   "outputs": [
    {
     "name": "stdout",
     "output_type": "stream",
     "text": [
      "total 17G\n",
      "427M -rw-r--r-- 1 kaisei-h mh-ut 427M Dec 15 08:02 gencode.v39.transcripts.fa\n",
      "252M -rw-r--r-- 1 kaisei-h mh-ut 252M Dec 15 08:01 gencode.vM28.transcripts.fa\n",
      "4.0K -rw-r--r-- 1 kaisei-h mh-ut  359 Dec 21 09:37 human.sh\n",
      "4.0K -rw-r--r-- 1 kaisei-h mh-ut   51 Dec 30 09:27 human.sh.e14374651\n",
      "4.0K -rw-r--r-- 1 kaisei-h mh-ut   98 Dec 30 09:27 human.sh.o14374651\n",
      "6.0G -rw-r--r-- 1 kaisei-h mh-ut 6.0G Dec 30 09:27 human_retry.txt\n",
      "424M -rw-r--r-- 1 kaisei-h mh-ut 424M Jan  7 06:59 human_seq.pkl\n",
      "3.2G -rw-r--r-- 1 kaisei-h mh-ut 3.2G Jan  7 06:48 human_target.pkl\n",
      "4.0K -rw-r--r-- 1 kaisei-h mh-ut  360 Dec 21 09:37 mouse.sh\n",
      "4.0K -rw-r--r-- 1 kaisei-h mh-ut   51 Dec 26 18:09 mouse.sh.e14374652\n",
      "4.0K -rw-r--r-- 1 kaisei-h mh-ut   98 Dec 26 18:09 mouse.sh.o14374652\n",
      "3.6G -rw-r--r-- 1 kaisei-h mh-ut 3.6G Dec 26 18:09 mouse_retry.txt\n",
      "250M -rw-r--r-- 1 kaisei-h mh-ut 250M Jan  7 06:56 mouse_seq.pkl\n",
      "1.9G -rw-r--r-- 1 kaisei-h mh-ut 1.9G Jan  6 16:00 mouse_target.pkl\n",
      "424M -rw-r--r-- 1 kaisei-h mh-ut 424M Dec 15 08:03 sequences.pkl\n",
      " 12K -rw-r--r-- 1 kaisei-h mh-ut  12K Jan  7 06:49 vs_pandas.ipynb\n"
     ]
    }
   ],
   "source": [
    "!ls -s -lh"
   ]
  },
  {
   "cell_type": "markdown",
   "id": "3d50db37-45d7-451f-988d-7926ef83ba6b",
   "metadata": {},
   "source": [
    "## ここからはマージします"
   ]
  },
  {
   "cell_type": "code",
   "execution_count": 37,
   "id": "bb9a862a-b15c-4eeb-b0c9-7672e28d1453",
   "metadata": {},
   "outputs": [],
   "source": [
    "human_target = pickle.load(open(\"human_target.pkl\",\"rb\"))\n",
    "human_seq = pickle.load(open(\"human_seq.pkl\",\"rb\"))"
   ]
  },
  {
   "cell_type": "code",
   "execution_count": 38,
   "id": "e3fdc4b0-413a-4fcc-b6ea-6cf630ea9d55",
   "metadata": {},
   "outputs": [
    {
     "data": {
      "text/plain": [
       "<bound method NDFrame.head of >ENST00000456328.2|ENSG00000223972.5|OTTHUMG00000000961.2|OTTHUMT00000362751.1|DDX11L1-202|DDX11L1|1657|processed_transcript|\\n                 ,2.75963,3.74253,6.49098,8.5129,8.96709,9.0653...\n",
       ">ENST00000450305.2|ENSG00000223972.5|OTTHUMG00000000961.2|OTTHUMT00000002844.2|DDX11L1-201|DDX11L1|632|transcribed_unprocessed_pseudogene|\\n    ,2.258,2.30794,2.33991,2.33876,2.46248,1.23872...\n",
       ">ENST00000488147.1|ENSG00000227232.5|OTTHUMG00000000958.1|OTTHUMT00000002839.1|WASH7P-201|WASH7P|1351|unprocessed_pseudogene|\\n                 ,2.22498,2.35681,2.55085,2.58041,2.62294,2.605...\n",
       ">ENST00000619216.1|ENSG00000278267.1|-|-|MIR6859-1-201|MIR6859-1|68|miRNA|\\n                                                                    ,2.00031,5.383,6.19813,7.72055,7.97902,7.97111...\n",
       ">ENST00000473358.1|ENSG00000243485.5|OTTHUMG00000000959.2|OTTHUMT00000002840.1|MIR1302-2HG-202|MIR1302-2HG|712|lncRNA|\\n                        ,0.056234,0.0544085,0.054602,0.0486438,0.05109...\n",
       "                                                                                                                                                                      ...                        \n",
       ">ENST00000361681.2|ENSG00000198695.2|-|-|MT-ND6-201|MT-ND6|525|protein_coding|\\n                                                                ,0.49418,0.517246,0.532746,0.587294,0.662901,0...\n",
       ">ENST00000387459.1|ENSG00000210194.1|-|-|MT-TE-201|MT-TE|69|Mt_tRNA|\\n                                                                          ,6.47313,7.3187,7.65946,8.78385,8.80194,8.1545...\n",
       ">ENST00000361789.2|ENSG00000198727.2|-|-|MT-CYB-201|MT-CYB|1141|protein_coding|\\n                                                               ,4.19049,4.35228,4.37056,4.37191,4.55269,4.229...\n",
       ">ENST00000387460.2|ENSG00000210195.2|-|-|MT-TT-201|MT-TT|66|Mt_tRNA|\\n                                                                          ,8.53848,8.54773,8.5083,9.56009,8.49207,4.7275...\n",
       ">ENST00000387461.2|ENSG00000210196.2|-|-|MT-TP-201|MT-TP|68|Mt_tRNA|\\n                                                                                                                           \n",
       "Length: 244939, dtype: object>"
      ]
     },
     "execution_count": 38,
     "metadata": {},
     "output_type": "execute_result"
    }
   ],
   "source": [
    "human_target.head"
   ]
  },
  {
   "cell_type": "code",
   "execution_count": 39,
   "id": "8ed86e98-50b6-4e09-98aa-0de3bb47bc88",
   "metadata": {},
   "outputs": [
    {
     "data": {
      "text/plain": [
       "<bound method NDFrame.head of >ENST00000456328.2|ENSG00000223972.5|OTTHUMG00000000961.2|OTTHUMT00000362751.1|DDX11L1-202|DDX11L1|1657|processed_transcript|\\n                 GTTAACTTGCCGTCAGCCTTTTCTTTGACCTCTTCTTTCTGTTCAT...\n",
       ">ENST00000450305.2|ENSG00000223972.5|OTTHUMG00000000961.2|OTTHUMT00000002844.2|DDX11L1-201|DDX11L1|632|transcribed_unprocessed_pseudogene|\\n    GTGTCTGACTTCCAGCAACTGCTGGCCTGTGCCAGGGTGCAAGCTG...\n",
       ">ENST00000488147.1|ENSG00000227232.5|OTTHUMG00000000958.1|OTTHUMT00000002839.1|WASH7P-201|WASH7P|1351|unprocessed_pseudogene|\\n                 ATGGGAGCCGTGTGCACGTCGGGAGCTCGGAGTGAGCGCACCATGA...\n",
       ">ENST00000619216.1|ENSG00000278267.1|-|-|MIR6859-1-201|MIR6859-1|68|miRNA|\\n                                                                    TGTGGGAGAGGAACATGGGCTCAGGACAGCGGGTGTCAGCTTGCCT...\n",
       ">ENST00000473358.1|ENSG00000243485.5|OTTHUMG00000000959.2|OTTHUMT00000002840.1|MIR1302-2HG-202|MIR1302-2HG|712|lncRNA|\\n                        GTGCACACGGCTCCCATGCGTTGTCTTCCGAGCGTCAGGCCGCCCC...\n",
       "                                                                                                                                                                      ...                        \n",
       ">ENST00000361681.2|ENSG00000198695.2|-|-|MT-ND6-201|MT-ND6|525|protein_coding|\\n                                                                ATGATGTATGCTTTGTTTCTGTTGAGTGTGGGTTTAGTAATGGGGT...\n",
       ">ENST00000387459.1|ENSG00000210194.1|-|-|MT-TE-201|MT-TE|69|Mt_tRNA|\\n                                                                          GTTCTTGTAGTTGAAATACAACGATGGTTTTTCATATCATTGGTCG...\n",
       ">ENST00000361789.2|ENSG00000198727.2|-|-|MT-CYB-201|MT-CYB|1141|protein_coding|\\n                                                               ATGACCCCAATACGCAAAACTAACCCCCTAATAAAATTAATTAACC...\n",
       ">ENST00000387460.2|ENSG00000210195.2|-|-|MT-TT-201|MT-TT|66|Mt_tRNA|\\n                                                                          GTCCTTGTAGTATAAACTAATACACCAGTCTTGTAAACCGGAGATG...\n",
       ">ENST00000387461.2|ENSG00000210196.2|-|-|MT-TP-201|MT-TP|68|Mt_tRNA|\\n                                                                                                                           \n",
       "Length: 244939, dtype: object>"
      ]
     },
     "execution_count": 39,
     "metadata": {},
     "output_type": "execute_result"
    }
   ],
   "source": [
    "human_seq.head"
   ]
  },
  {
   "cell_type": "code",
   "execution_count": 40,
   "id": "1593263f-23d3-4eea-853c-b9a10a44849e",
   "metadata": {},
   "outputs": [],
   "source": [
    "df = pd.concat([human_seq, human_target], axis=1)"
   ]
  },
  {
   "cell_type": "code",
   "execution_count": 41,
   "id": "f108533d-020b-45b1-881f-e5c830a81437",
   "metadata": {},
   "outputs": [],
   "source": [
    "df = df.rename(columns={0:'seq', 1:'target'})"
   ]
  },
  {
   "cell_type": "code",
   "execution_count": 42,
   "id": "bb7e326e-eeca-4b22-a2d8-15d2b549c897",
   "metadata": {},
   "outputs": [
    {
     "data": {
      "text/html": [
       "<div>\n",
       "<style scoped>\n",
       "    .dataframe tbody tr th:only-of-type {\n",
       "        vertical-align: middle;\n",
       "    }\n",
       "\n",
       "    .dataframe tbody tr th {\n",
       "        vertical-align: top;\n",
       "    }\n",
       "\n",
       "    .dataframe thead th {\n",
       "        text-align: right;\n",
       "    }\n",
       "</style>\n",
       "<table border=\"1\" class=\"dataframe\">\n",
       "  <thead>\n",
       "    <tr style=\"text-align: right;\">\n",
       "      <th></th>\n",
       "      <th>seq</th>\n",
       "      <th>target</th>\n",
       "    </tr>\n",
       "  </thead>\n",
       "  <tbody>\n",
       "    <tr>\n",
       "      <th>&gt;ENST00000456328.2|ENSG00000223972.5|OTTHUMG00000000961.2|OTTHUMT00000362751.1|DDX11L1-202|DDX11L1|1657|processed_transcript|\\n</th>\n",
       "      <td>GTTAACTTGCCGTCAGCCTTTTCTTTGACCTCTTCTTTCTGTTCAT...</td>\n",
       "      <td>,2.75963,3.74253,6.49098,8.5129,8.96709,9.0653...</td>\n",
       "    </tr>\n",
       "    <tr>\n",
       "      <th>&gt;ENST00000450305.2|ENSG00000223972.5|OTTHUMG00000000961.2|OTTHUMT00000002844.2|DDX11L1-201|DDX11L1|632|transcribed_unprocessed_pseudogene|\\n</th>\n",
       "      <td>GTGTCTGACTTCCAGCAACTGCTGGCCTGTGCCAGGGTGCAAGCTG...</td>\n",
       "      <td>,2.258,2.30794,2.33991,2.33876,2.46248,1.23872...</td>\n",
       "    </tr>\n",
       "    <tr>\n",
       "      <th>&gt;ENST00000488147.1|ENSG00000227232.5|OTTHUMG00000000958.1|OTTHUMT00000002839.1|WASH7P-201|WASH7P|1351|unprocessed_pseudogene|\\n</th>\n",
       "      <td>ATGGGAGCCGTGTGCACGTCGGGAGCTCGGAGTGAGCGCACCATGA...</td>\n",
       "      <td>,2.22498,2.35681,2.55085,2.58041,2.62294,2.605...</td>\n",
       "    </tr>\n",
       "    <tr>\n",
       "      <th>&gt;ENST00000619216.1|ENSG00000278267.1|-|-|MIR6859-1-201|MIR6859-1|68|miRNA|\\n</th>\n",
       "      <td>TGTGGGAGAGGAACATGGGCTCAGGACAGCGGGTGTCAGCTTGCCT...</td>\n",
       "      <td>,2.00031,5.383,6.19813,7.72055,7.97902,7.97111...</td>\n",
       "    </tr>\n",
       "    <tr>\n",
       "      <th>&gt;ENST00000473358.1|ENSG00000243485.5|OTTHUMG00000000959.2|OTTHUMT00000002840.1|MIR1302-2HG-202|MIR1302-2HG|712|lncRNA|\\n</th>\n",
       "      <td>GTGCACACGGCTCCCATGCGTTGTCTTCCGAGCGTCAGGCCGCCCC...</td>\n",
       "      <td>,0.056234,0.0544085,0.054602,0.0486438,0.05109...</td>\n",
       "    </tr>\n",
       "    <tr>\n",
       "      <th>...</th>\n",
       "      <td>...</td>\n",
       "      <td>...</td>\n",
       "    </tr>\n",
       "    <tr>\n",
       "      <th>&gt;ENST00000361681.2|ENSG00000198695.2|-|-|MT-ND6-201|MT-ND6|525|protein_coding|\\n</th>\n",
       "      <td>ATGATGTATGCTTTGTTTCTGTTGAGTGTGGGTTTAGTAATGGGGT...</td>\n",
       "      <td>,0.49418,0.517246,0.532746,0.587294,0.662901,0...</td>\n",
       "    </tr>\n",
       "    <tr>\n",
       "      <th>&gt;ENST00000387459.1|ENSG00000210194.1|-|-|MT-TE-201|MT-TE|69|Mt_tRNA|\\n</th>\n",
       "      <td>GTTCTTGTAGTTGAAATACAACGATGGTTTTTCATATCATTGGTCG...</td>\n",
       "      <td>,6.47313,7.3187,7.65946,8.78385,8.80194,8.1545...</td>\n",
       "    </tr>\n",
       "    <tr>\n",
       "      <th>&gt;ENST00000361789.2|ENSG00000198727.2|-|-|MT-CYB-201|MT-CYB|1141|protein_coding|\\n</th>\n",
       "      <td>ATGACCCCAATACGCAAAACTAACCCCCTAATAAAATTAATTAACC...</td>\n",
       "      <td>,4.19049,4.35228,4.37056,4.37191,4.55269,4.229...</td>\n",
       "    </tr>\n",
       "    <tr>\n",
       "      <th>&gt;ENST00000387460.2|ENSG00000210195.2|-|-|MT-TT-201|MT-TT|66|Mt_tRNA|\\n</th>\n",
       "      <td>GTCCTTGTAGTATAAACTAATACACCAGTCTTGTAAACCGGAGATG...</td>\n",
       "      <td>,8.53848,8.54773,8.5083,9.56009,8.49207,4.7275...</td>\n",
       "    </tr>\n",
       "    <tr>\n",
       "      <th>&gt;ENST00000387461.2|ENSG00000210196.2|-|-|MT-TP-201|MT-TP|68|Mt_tRNA|\\n</th>\n",
       "      <td></td>\n",
       "      <td></td>\n",
       "    </tr>\n",
       "  </tbody>\n",
       "</table>\n",
       "<p>244939 rows × 2 columns</p>\n",
       "</div>"
      ],
      "text/plain": [
       "                                                                                                  seq  \\\n",
       ">ENST00000456328.2|ENSG00000223972.5|OTTHUMG000...  GTTAACTTGCCGTCAGCCTTTTCTTTGACCTCTTCTTTCTGTTCAT...   \n",
       ">ENST00000450305.2|ENSG00000223972.5|OTTHUMG000...  GTGTCTGACTTCCAGCAACTGCTGGCCTGTGCCAGGGTGCAAGCTG...   \n",
       ">ENST00000488147.1|ENSG00000227232.5|OTTHUMG000...  ATGGGAGCCGTGTGCACGTCGGGAGCTCGGAGTGAGCGCACCATGA...   \n",
       ">ENST00000619216.1|ENSG00000278267.1|-|-|MIR685...  TGTGGGAGAGGAACATGGGCTCAGGACAGCGGGTGTCAGCTTGCCT...   \n",
       ">ENST00000473358.1|ENSG00000243485.5|OTTHUMG000...  GTGCACACGGCTCCCATGCGTTGTCTTCCGAGCGTCAGGCCGCCCC...   \n",
       "...                                                                                               ...   \n",
       ">ENST00000361681.2|ENSG00000198695.2|-|-|MT-ND6...  ATGATGTATGCTTTGTTTCTGTTGAGTGTGGGTTTAGTAATGGGGT...   \n",
       ">ENST00000387459.1|ENSG00000210194.1|-|-|MT-TE-...  GTTCTTGTAGTTGAAATACAACGATGGTTTTTCATATCATTGGTCG...   \n",
       ">ENST00000361789.2|ENSG00000198727.2|-|-|MT-CYB...  ATGACCCCAATACGCAAAACTAACCCCCTAATAAAATTAATTAACC...   \n",
       ">ENST00000387460.2|ENSG00000210195.2|-|-|MT-TT-...  GTCCTTGTAGTATAAACTAATACACCAGTCTTGTAAACCGGAGATG...   \n",
       ">ENST00000387461.2|ENSG00000210196.2|-|-|MT-TP-...                                                      \n",
       "\n",
       "                                                                                               target  \n",
       ">ENST00000456328.2|ENSG00000223972.5|OTTHUMG000...  ,2.75963,3.74253,6.49098,8.5129,8.96709,9.0653...  \n",
       ">ENST00000450305.2|ENSG00000223972.5|OTTHUMG000...  ,2.258,2.30794,2.33991,2.33876,2.46248,1.23872...  \n",
       ">ENST00000488147.1|ENSG00000227232.5|OTTHUMG000...  ,2.22498,2.35681,2.55085,2.58041,2.62294,2.605...  \n",
       ">ENST00000619216.1|ENSG00000278267.1|-|-|MIR685...  ,2.00031,5.383,6.19813,7.72055,7.97902,7.97111...  \n",
       ">ENST00000473358.1|ENSG00000243485.5|OTTHUMG000...  ,0.056234,0.0544085,0.054602,0.0486438,0.05109...  \n",
       "...                                                                                               ...  \n",
       ">ENST00000361681.2|ENSG00000198695.2|-|-|MT-ND6...  ,0.49418,0.517246,0.532746,0.587294,0.662901,0...  \n",
       ">ENST00000387459.1|ENSG00000210194.1|-|-|MT-TE-...  ,6.47313,7.3187,7.65946,8.78385,8.80194,8.1545...  \n",
       ">ENST00000361789.2|ENSG00000198727.2|-|-|MT-CYB...  ,4.19049,4.35228,4.37056,4.37191,4.55269,4.229...  \n",
       ">ENST00000387460.2|ENSG00000210195.2|-|-|MT-TT-...  ,8.53848,8.54773,8.5083,9.56009,8.49207,4.7275...  \n",
       ">ENST00000387461.2|ENSG00000210196.2|-|-|MT-TP-...                                                     \n",
       "\n",
       "[244939 rows x 2 columns]"
      ]
     },
     "execution_count": 42,
     "metadata": {},
     "output_type": "execute_result"
    }
   ],
   "source": [
    "df"
   ]
  },
  {
   "cell_type": "code",
   "execution_count": 43,
   "id": "ab71afbb-3493-49ae-8811-dc21e3ec4d07",
   "metadata": {},
   "outputs": [],
   "source": [
    "df.to_pickle('human.pkl')"
   ]
  },
  {
   "cell_type": "code",
   "execution_count": 44,
   "id": "668caad0-4f6c-40ef-a2a5-87190661d203",
   "metadata": {},
   "outputs": [
    {
     "name": "stdout",
     "output_type": "stream",
     "text": [
      "total 22G\n",
      "427M -rw-r--r-- 1 kaisei-h mh-ut 427M Dec 15 08:02 gencode.v39.transcripts.fa\n",
      "252M -rw-r--r-- 1 kaisei-h mh-ut 252M Dec 15 08:01 gencode.vM28.transcripts.fa\n",
      "3.6G -rw-r--r-- 1 kaisei-h mh-ut 3.6G Jan  7 07:39 human.pkl\n",
      "4.0K -rw-r--r-- 1 kaisei-h mh-ut  359 Dec 21 09:37 human.sh\n",
      "4.0K -rw-r--r-- 1 kaisei-h mh-ut   51 Dec 30 09:27 human.sh.e14374651\n",
      "4.0K -rw-r--r-- 1 kaisei-h mh-ut   98 Dec 30 09:27 human.sh.o14374651\n",
      "6.0G -rw-r--r-- 1 kaisei-h mh-ut 6.0G Dec 30 09:27 human_retry.txt\n",
      "424M -rw-r--r-- 1 kaisei-h mh-ut 424M Jan  7 06:59 human_seq.pkl\n",
      "3.2G -rw-r--r-- 1 kaisei-h mh-ut 3.2G Jan  7 06:48 human_target.pkl\n",
      "2.1G -rw-r--r-- 1 kaisei-h mh-ut 2.1G Jan  7 07:37 mouse.pkl\n",
      "4.0K -rw-r--r-- 1 kaisei-h mh-ut  360 Dec 21 09:37 mouse.sh\n",
      "4.0K -rw-r--r-- 1 kaisei-h mh-ut   51 Dec 26 18:09 mouse.sh.e14374652\n",
      "4.0K -rw-r--r-- 1 kaisei-h mh-ut   98 Dec 26 18:09 mouse.sh.o14374652\n",
      "3.6G -rw-r--r-- 1 kaisei-h mh-ut 3.6G Dec 26 18:09 mouse_retry.txt\n",
      "250M -rw-r--r-- 1 kaisei-h mh-ut 250M Jan  7 06:56 mouse_seq.pkl\n",
      "1.9G -rw-r--r-- 1 kaisei-h mh-ut 1.9G Jan  6 16:00 mouse_target.pkl\n",
      "424M -rw-r--r-- 1 kaisei-h mh-ut 424M Dec 15 08:03 sequences.pkl\n",
      " 20K -rw-r--r-- 1 kaisei-h mh-ut  18K Jan  7 07:38 vs_pandas.ipynb\n"
     ]
    }
   ],
   "source": [
    "!ls -s -lh"
   ]
  },
  {
   "cell_type": "code",
   "execution_count": null,
   "id": "f852627f-f8a2-49b9-bb2b-ddc47bd0f728",
   "metadata": {},
   "outputs": [],
   "source": []
  }
 ],
 "metadata": {
  "kernelspec": {
   "display_name": "Python 3 (ipykernel)",
   "language": "python",
   "name": "python3"
  },
  "language_info": {
   "codemirror_mode": {
    "name": "ipython",
    "version": 3
   },
   "file_extension": ".py",
   "mimetype": "text/x-python",
   "name": "python",
   "nbconvert_exporter": "python",
   "pygments_lexer": "ipython3",
   "version": "3.7.12"
  }
 },
 "nbformat": 4,
 "nbformat_minor": 5
}
